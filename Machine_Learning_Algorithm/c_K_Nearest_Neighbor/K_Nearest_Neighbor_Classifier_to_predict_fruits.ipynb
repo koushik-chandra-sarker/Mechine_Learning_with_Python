{
 "cells": [
  {
   "cell_type": "markdown",
   "metadata": {
    "collapsed": true,
    "pycharm": {
     "name": "#%% md\n"
    }
   },
   "source": [
    "# K-Nearest Neighbour\n",
    "### K-Nearest Neighbour is one of the simplest Machine Learning algorithms based on Supervised Learning technique.\n",
    "\n",
    "#### The K-NN working can be explained on the basis of the below algorithm:\n",
    "\n",
    "> Step-1: Select the number K of the neighbors\n",
    "\n",
    "> Step-2: Calculate the Euclidean distance of K number of neighbors\n",
    "\n",
    "> Step-3: Take the K nearest neighbors as per the calculated Euclidean distance.\n",
    "\n",
    "> Step-4: Among these k neighbors, count the number of the data points in each category.\n",
    "\n",
    "> Step-5: Assign the new data points to that category for which the number of the neighbor is maximum.\n",
    "\n",
    "> Step-6: Our model is ready.\n",
    "\n",
    "\n",
    "But we don't need to perform those step, because all are the steps will perform by 'sklearn' kit\n",
    "\n",
    "\n",
    "\n",
    "\n",
    "## we have a dataset called 'fruit_data_with_colors.txt'\n",
    " > we train the model by \"mass\", \"width\", \"height\" using this dataset.\n",
    "\n",
    "> Based on input \"mass\", \"width\", \"height\" this model give us an output as a fruit name."
   ]
  },
  {
   "cell_type": "code",
   "execution_count": 111,
   "outputs": [
    {
     "data": {
      "text/plain": "    fruit_label fruit_name     fruit_subtype  mass  width  height  color_score\n0             1      apple      granny_smith   192    8.4     7.3         0.55\n1             1      apple      granny_smith   180    8.0     6.8         0.59\n2             1      apple      granny_smith   176    7.4     7.2         0.60\n3             2   mandarin          mandarin    86    6.2     4.7         0.80\n4             2   mandarin          mandarin    84    6.0     4.6         0.79\n5             2   mandarin          mandarin    80    5.8     4.3         0.77\n6             2   mandarin          mandarin    80    5.9     4.3         0.81\n7             2   mandarin          mandarin    76    5.8     4.0         0.81\n8             1      apple          braeburn   178    7.1     7.8         0.92\n9             1      apple          braeburn   172    7.4     7.0         0.89\n10            1      apple          braeburn   166    6.9     7.3         0.93\n11            1      apple          braeburn   172    7.1     7.6         0.92\n12            1      apple          braeburn   154    7.0     7.1         0.88\n13            1      apple  golden_delicious   164    7.3     7.7         0.70\n14            1      apple  golden_delicious   152    7.6     7.3         0.69\n15            1      apple  golden_delicious   156    7.7     7.1         0.69\n16            1      apple  golden_delicious   156    7.6     7.5         0.67\n17            1      apple  golden_delicious   168    7.5     7.6         0.73\n18            1      apple       cripps_pink   162    7.5     7.1         0.83\n19            1      apple       cripps_pink   162    7.4     7.2         0.85\n20            1      apple       cripps_pink   160    7.5     7.5         0.86\n21            1      apple       cripps_pink   156    7.4     7.4         0.84\n22            1      apple       cripps_pink   140    7.3     7.1         0.87\n23            1      apple       cripps_pink   170    7.6     7.9         0.88\n24            3     orange     spanish_jumbo   342    9.0     9.4         0.75\n25            3     orange     spanish_jumbo   356    9.2     9.2         0.75\n26            3     orange     spanish_jumbo   362    9.6     9.2         0.74\n27            3     orange  selected_seconds   204    7.5     9.2         0.77\n28            3     orange  selected_seconds   140    6.7     7.1         0.72\n29            3     orange  selected_seconds   160    7.0     7.4         0.81\n30            3     orange  selected_seconds   158    7.1     7.5         0.79\n31            3     orange  selected_seconds   210    7.8     8.0         0.82\n32            3     orange  selected_seconds   164    7.2     7.0         0.80\n33            3     orange      turkey_navel   190    7.5     8.1         0.74\n34            3     orange      turkey_navel   142    7.6     7.8         0.75\n35            3     orange      turkey_navel   150    7.1     7.9         0.75\n36            3     orange      turkey_navel   160    7.1     7.6         0.76\n37            3     orange      turkey_navel   154    7.3     7.3         0.79\n38            3     orange      turkey_navel   158    7.2     7.8         0.77\n39            3     orange      turkey_navel   144    6.8     7.4         0.75\n40            3     orange      turkey_navel   154    7.1     7.5         0.78\n41            3     orange      turkey_navel   180    7.6     8.2         0.79\n42            3     orange      turkey_navel   154    7.2     7.2         0.82\n43            4      lemon    spanish_belsan   194    7.2    10.3         0.70\n44            4      lemon    spanish_belsan   200    7.3    10.5         0.72\n45            4      lemon    spanish_belsan   186    7.2     9.2         0.72\n46            4      lemon    spanish_belsan   216    7.3    10.2         0.71\n47            4      lemon    spanish_belsan   196    7.3     9.7         0.72\n48            4      lemon    spanish_belsan   174    7.3    10.1         0.72\n49            4      lemon           unknown   132    5.8     8.7         0.73\n50            4      lemon           unknown   130    6.0     8.2         0.71\n51            4      lemon           unknown   116    6.0     7.5         0.72\n52            4      lemon           unknown   118    5.9     8.0         0.72\n53            4      lemon           unknown   120    6.0     8.4         0.74\n54            4      lemon           unknown   116    6.1     8.5         0.71\n55            4      lemon           unknown   116    6.3     7.7         0.72\n56            4      lemon           unknown   116    5.9     8.1         0.73\n57            4      lemon           unknown   152    6.5     8.5         0.72\n58            4      lemon           unknown   118    6.1     8.1         0.70",
      "text/html": "<div>\n<style scoped>\n    .dataframe tbody tr th:only-of-type {\n        vertical-align: middle;\n    }\n\n    .dataframe tbody tr th {\n        vertical-align: top;\n    }\n\n    .dataframe thead th {\n        text-align: right;\n    }\n</style>\n<table border=\"1\" class=\"dataframe\">\n  <thead>\n    <tr style=\"text-align: right;\">\n      <th></th>\n      <th>fruit_label</th>\n      <th>fruit_name</th>\n      <th>fruit_subtype</th>\n      <th>mass</th>\n      <th>width</th>\n      <th>height</th>\n      <th>color_score</th>\n    </tr>\n  </thead>\n  <tbody>\n    <tr>\n      <th>0</th>\n      <td>1</td>\n      <td>apple</td>\n      <td>granny_smith</td>\n      <td>192</td>\n      <td>8.4</td>\n      <td>7.3</td>\n      <td>0.55</td>\n    </tr>\n    <tr>\n      <th>1</th>\n      <td>1</td>\n      <td>apple</td>\n      <td>granny_smith</td>\n      <td>180</td>\n      <td>8.0</td>\n      <td>6.8</td>\n      <td>0.59</td>\n    </tr>\n    <tr>\n      <th>2</th>\n      <td>1</td>\n      <td>apple</td>\n      <td>granny_smith</td>\n      <td>176</td>\n      <td>7.4</td>\n      <td>7.2</td>\n      <td>0.60</td>\n    </tr>\n    <tr>\n      <th>3</th>\n      <td>2</td>\n      <td>mandarin</td>\n      <td>mandarin</td>\n      <td>86</td>\n      <td>6.2</td>\n      <td>4.7</td>\n      <td>0.80</td>\n    </tr>\n    <tr>\n      <th>4</th>\n      <td>2</td>\n      <td>mandarin</td>\n      <td>mandarin</td>\n      <td>84</td>\n      <td>6.0</td>\n      <td>4.6</td>\n      <td>0.79</td>\n    </tr>\n    <tr>\n      <th>5</th>\n      <td>2</td>\n      <td>mandarin</td>\n      <td>mandarin</td>\n      <td>80</td>\n      <td>5.8</td>\n      <td>4.3</td>\n      <td>0.77</td>\n    </tr>\n    <tr>\n      <th>6</th>\n      <td>2</td>\n      <td>mandarin</td>\n      <td>mandarin</td>\n      <td>80</td>\n      <td>5.9</td>\n      <td>4.3</td>\n      <td>0.81</td>\n    </tr>\n    <tr>\n      <th>7</th>\n      <td>2</td>\n      <td>mandarin</td>\n      <td>mandarin</td>\n      <td>76</td>\n      <td>5.8</td>\n      <td>4.0</td>\n      <td>0.81</td>\n    </tr>\n    <tr>\n      <th>8</th>\n      <td>1</td>\n      <td>apple</td>\n      <td>braeburn</td>\n      <td>178</td>\n      <td>7.1</td>\n      <td>7.8</td>\n      <td>0.92</td>\n    </tr>\n    <tr>\n      <th>9</th>\n      <td>1</td>\n      <td>apple</td>\n      <td>braeburn</td>\n      <td>172</td>\n      <td>7.4</td>\n      <td>7.0</td>\n      <td>0.89</td>\n    </tr>\n    <tr>\n      <th>10</th>\n      <td>1</td>\n      <td>apple</td>\n      <td>braeburn</td>\n      <td>166</td>\n      <td>6.9</td>\n      <td>7.3</td>\n      <td>0.93</td>\n    </tr>\n    <tr>\n      <th>11</th>\n      <td>1</td>\n      <td>apple</td>\n      <td>braeburn</td>\n      <td>172</td>\n      <td>7.1</td>\n      <td>7.6</td>\n      <td>0.92</td>\n    </tr>\n    <tr>\n      <th>12</th>\n      <td>1</td>\n      <td>apple</td>\n      <td>braeburn</td>\n      <td>154</td>\n      <td>7.0</td>\n      <td>7.1</td>\n      <td>0.88</td>\n    </tr>\n    <tr>\n      <th>13</th>\n      <td>1</td>\n      <td>apple</td>\n      <td>golden_delicious</td>\n      <td>164</td>\n      <td>7.3</td>\n      <td>7.7</td>\n      <td>0.70</td>\n    </tr>\n    <tr>\n      <th>14</th>\n      <td>1</td>\n      <td>apple</td>\n      <td>golden_delicious</td>\n      <td>152</td>\n      <td>7.6</td>\n      <td>7.3</td>\n      <td>0.69</td>\n    </tr>\n    <tr>\n      <th>15</th>\n      <td>1</td>\n      <td>apple</td>\n      <td>golden_delicious</td>\n      <td>156</td>\n      <td>7.7</td>\n      <td>7.1</td>\n      <td>0.69</td>\n    </tr>\n    <tr>\n      <th>16</th>\n      <td>1</td>\n      <td>apple</td>\n      <td>golden_delicious</td>\n      <td>156</td>\n      <td>7.6</td>\n      <td>7.5</td>\n      <td>0.67</td>\n    </tr>\n    <tr>\n      <th>17</th>\n      <td>1</td>\n      <td>apple</td>\n      <td>golden_delicious</td>\n      <td>168</td>\n      <td>7.5</td>\n      <td>7.6</td>\n      <td>0.73</td>\n    </tr>\n    <tr>\n      <th>18</th>\n      <td>1</td>\n      <td>apple</td>\n      <td>cripps_pink</td>\n      <td>162</td>\n      <td>7.5</td>\n      <td>7.1</td>\n      <td>0.83</td>\n    </tr>\n    <tr>\n      <th>19</th>\n      <td>1</td>\n      <td>apple</td>\n      <td>cripps_pink</td>\n      <td>162</td>\n      <td>7.4</td>\n      <td>7.2</td>\n      <td>0.85</td>\n    </tr>\n    <tr>\n      <th>20</th>\n      <td>1</td>\n      <td>apple</td>\n      <td>cripps_pink</td>\n      <td>160</td>\n      <td>7.5</td>\n      <td>7.5</td>\n      <td>0.86</td>\n    </tr>\n    <tr>\n      <th>21</th>\n      <td>1</td>\n      <td>apple</td>\n      <td>cripps_pink</td>\n      <td>156</td>\n      <td>7.4</td>\n      <td>7.4</td>\n      <td>0.84</td>\n    </tr>\n    <tr>\n      <th>22</th>\n      <td>1</td>\n      <td>apple</td>\n      <td>cripps_pink</td>\n      <td>140</td>\n      <td>7.3</td>\n      <td>7.1</td>\n      <td>0.87</td>\n    </tr>\n    <tr>\n      <th>23</th>\n      <td>1</td>\n      <td>apple</td>\n      <td>cripps_pink</td>\n      <td>170</td>\n      <td>7.6</td>\n      <td>7.9</td>\n      <td>0.88</td>\n    </tr>\n    <tr>\n      <th>24</th>\n      <td>3</td>\n      <td>orange</td>\n      <td>spanish_jumbo</td>\n      <td>342</td>\n      <td>9.0</td>\n      <td>9.4</td>\n      <td>0.75</td>\n    </tr>\n    <tr>\n      <th>25</th>\n      <td>3</td>\n      <td>orange</td>\n      <td>spanish_jumbo</td>\n      <td>356</td>\n      <td>9.2</td>\n      <td>9.2</td>\n      <td>0.75</td>\n    </tr>\n    <tr>\n      <th>26</th>\n      <td>3</td>\n      <td>orange</td>\n      <td>spanish_jumbo</td>\n      <td>362</td>\n      <td>9.6</td>\n      <td>9.2</td>\n      <td>0.74</td>\n    </tr>\n    <tr>\n      <th>27</th>\n      <td>3</td>\n      <td>orange</td>\n      <td>selected_seconds</td>\n      <td>204</td>\n      <td>7.5</td>\n      <td>9.2</td>\n      <td>0.77</td>\n    </tr>\n    <tr>\n      <th>28</th>\n      <td>3</td>\n      <td>orange</td>\n      <td>selected_seconds</td>\n      <td>140</td>\n      <td>6.7</td>\n      <td>7.1</td>\n      <td>0.72</td>\n    </tr>\n    <tr>\n      <th>29</th>\n      <td>3</td>\n      <td>orange</td>\n      <td>selected_seconds</td>\n      <td>160</td>\n      <td>7.0</td>\n      <td>7.4</td>\n      <td>0.81</td>\n    </tr>\n    <tr>\n      <th>30</th>\n      <td>3</td>\n      <td>orange</td>\n      <td>selected_seconds</td>\n      <td>158</td>\n      <td>7.1</td>\n      <td>7.5</td>\n      <td>0.79</td>\n    </tr>\n    <tr>\n      <th>31</th>\n      <td>3</td>\n      <td>orange</td>\n      <td>selected_seconds</td>\n      <td>210</td>\n      <td>7.8</td>\n      <td>8.0</td>\n      <td>0.82</td>\n    </tr>\n    <tr>\n      <th>32</th>\n      <td>3</td>\n      <td>orange</td>\n      <td>selected_seconds</td>\n      <td>164</td>\n      <td>7.2</td>\n      <td>7.0</td>\n      <td>0.80</td>\n    </tr>\n    <tr>\n      <th>33</th>\n      <td>3</td>\n      <td>orange</td>\n      <td>turkey_navel</td>\n      <td>190</td>\n      <td>7.5</td>\n      <td>8.1</td>\n      <td>0.74</td>\n    </tr>\n    <tr>\n      <th>34</th>\n      <td>3</td>\n      <td>orange</td>\n      <td>turkey_navel</td>\n      <td>142</td>\n      <td>7.6</td>\n      <td>7.8</td>\n      <td>0.75</td>\n    </tr>\n    <tr>\n      <th>35</th>\n      <td>3</td>\n      <td>orange</td>\n      <td>turkey_navel</td>\n      <td>150</td>\n      <td>7.1</td>\n      <td>7.9</td>\n      <td>0.75</td>\n    </tr>\n    <tr>\n      <th>36</th>\n      <td>3</td>\n      <td>orange</td>\n      <td>turkey_navel</td>\n      <td>160</td>\n      <td>7.1</td>\n      <td>7.6</td>\n      <td>0.76</td>\n    </tr>\n    <tr>\n      <th>37</th>\n      <td>3</td>\n      <td>orange</td>\n      <td>turkey_navel</td>\n      <td>154</td>\n      <td>7.3</td>\n      <td>7.3</td>\n      <td>0.79</td>\n    </tr>\n    <tr>\n      <th>38</th>\n      <td>3</td>\n      <td>orange</td>\n      <td>turkey_navel</td>\n      <td>158</td>\n      <td>7.2</td>\n      <td>7.8</td>\n      <td>0.77</td>\n    </tr>\n    <tr>\n      <th>39</th>\n      <td>3</td>\n      <td>orange</td>\n      <td>turkey_navel</td>\n      <td>144</td>\n      <td>6.8</td>\n      <td>7.4</td>\n      <td>0.75</td>\n    </tr>\n    <tr>\n      <th>40</th>\n      <td>3</td>\n      <td>orange</td>\n      <td>turkey_navel</td>\n      <td>154</td>\n      <td>7.1</td>\n      <td>7.5</td>\n      <td>0.78</td>\n    </tr>\n    <tr>\n      <th>41</th>\n      <td>3</td>\n      <td>orange</td>\n      <td>turkey_navel</td>\n      <td>180</td>\n      <td>7.6</td>\n      <td>8.2</td>\n      <td>0.79</td>\n    </tr>\n    <tr>\n      <th>42</th>\n      <td>3</td>\n      <td>orange</td>\n      <td>turkey_navel</td>\n      <td>154</td>\n      <td>7.2</td>\n      <td>7.2</td>\n      <td>0.82</td>\n    </tr>\n    <tr>\n      <th>43</th>\n      <td>4</td>\n      <td>lemon</td>\n      <td>spanish_belsan</td>\n      <td>194</td>\n      <td>7.2</td>\n      <td>10.3</td>\n      <td>0.70</td>\n    </tr>\n    <tr>\n      <th>44</th>\n      <td>4</td>\n      <td>lemon</td>\n      <td>spanish_belsan</td>\n      <td>200</td>\n      <td>7.3</td>\n      <td>10.5</td>\n      <td>0.72</td>\n    </tr>\n    <tr>\n      <th>45</th>\n      <td>4</td>\n      <td>lemon</td>\n      <td>spanish_belsan</td>\n      <td>186</td>\n      <td>7.2</td>\n      <td>9.2</td>\n      <td>0.72</td>\n    </tr>\n    <tr>\n      <th>46</th>\n      <td>4</td>\n      <td>lemon</td>\n      <td>spanish_belsan</td>\n      <td>216</td>\n      <td>7.3</td>\n      <td>10.2</td>\n      <td>0.71</td>\n    </tr>\n    <tr>\n      <th>47</th>\n      <td>4</td>\n      <td>lemon</td>\n      <td>spanish_belsan</td>\n      <td>196</td>\n      <td>7.3</td>\n      <td>9.7</td>\n      <td>0.72</td>\n    </tr>\n    <tr>\n      <th>48</th>\n      <td>4</td>\n      <td>lemon</td>\n      <td>spanish_belsan</td>\n      <td>174</td>\n      <td>7.3</td>\n      <td>10.1</td>\n      <td>0.72</td>\n    </tr>\n    <tr>\n      <th>49</th>\n      <td>4</td>\n      <td>lemon</td>\n      <td>unknown</td>\n      <td>132</td>\n      <td>5.8</td>\n      <td>8.7</td>\n      <td>0.73</td>\n    </tr>\n    <tr>\n      <th>50</th>\n      <td>4</td>\n      <td>lemon</td>\n      <td>unknown</td>\n      <td>130</td>\n      <td>6.0</td>\n      <td>8.2</td>\n      <td>0.71</td>\n    </tr>\n    <tr>\n      <th>51</th>\n      <td>4</td>\n      <td>lemon</td>\n      <td>unknown</td>\n      <td>116</td>\n      <td>6.0</td>\n      <td>7.5</td>\n      <td>0.72</td>\n    </tr>\n    <tr>\n      <th>52</th>\n      <td>4</td>\n      <td>lemon</td>\n      <td>unknown</td>\n      <td>118</td>\n      <td>5.9</td>\n      <td>8.0</td>\n      <td>0.72</td>\n    </tr>\n    <tr>\n      <th>53</th>\n      <td>4</td>\n      <td>lemon</td>\n      <td>unknown</td>\n      <td>120</td>\n      <td>6.0</td>\n      <td>8.4</td>\n      <td>0.74</td>\n    </tr>\n    <tr>\n      <th>54</th>\n      <td>4</td>\n      <td>lemon</td>\n      <td>unknown</td>\n      <td>116</td>\n      <td>6.1</td>\n      <td>8.5</td>\n      <td>0.71</td>\n    </tr>\n    <tr>\n      <th>55</th>\n      <td>4</td>\n      <td>lemon</td>\n      <td>unknown</td>\n      <td>116</td>\n      <td>6.3</td>\n      <td>7.7</td>\n      <td>0.72</td>\n    </tr>\n    <tr>\n      <th>56</th>\n      <td>4</td>\n      <td>lemon</td>\n      <td>unknown</td>\n      <td>116</td>\n      <td>5.9</td>\n      <td>8.1</td>\n      <td>0.73</td>\n    </tr>\n    <tr>\n      <th>57</th>\n      <td>4</td>\n      <td>lemon</td>\n      <td>unknown</td>\n      <td>152</td>\n      <td>6.5</td>\n      <td>8.5</td>\n      <td>0.72</td>\n    </tr>\n    <tr>\n      <th>58</th>\n      <td>4</td>\n      <td>lemon</td>\n      <td>unknown</td>\n      <td>118</td>\n      <td>6.1</td>\n      <td>8.1</td>\n      <td>0.70</td>\n    </tr>\n  </tbody>\n</table>\n</div>"
     },
     "execution_count": 111,
     "metadata": {},
     "output_type": "execute_result"
    }
   ],
   "source": [
    "import pandas as pd\n",
    "import matplotlib.pyplot as plt\n",
    "\n",
    "dataset = pd.read_table('fruit_data_with_colors.txt')\n",
    "dataset"
   ],
   "metadata": {
    "collapsed": false,
    "pycharm": {
     "name": "#%%\n"
    }
   }
  },
  {
   "cell_type": "markdown",
   "source": [
    "### now create a dictionary to better understanding fruit label value and name"
   ],
   "metadata": {
    "collapsed": false,
    "pycharm": {
     "name": "#%% md\n"
    }
   }
  },
  {
   "cell_type": "code",
   "execution_count": 112,
   "outputs": [
    {
     "data": {
      "text/plain": "{1: 'apple', 2: 'mandarin', 3: 'orange', 4: 'lemon'}"
     },
     "execution_count": 112,
     "metadata": {},
     "output_type": "execute_result"
    }
   ],
   "source": [
    "predict = dict(zip(dataset.fruit_label.unique(), dataset.fruit_name.unique()))\n",
    "predict\n"
   ],
   "metadata": {
    "collapsed": false,
    "pycharm": {
     "name": "#%%\n"
    }
   }
  },
  {
   "cell_type": "markdown",
   "source": [
    "> import 'train_test_split' from sklearn and split dataset into a train and test dataset\n",
    "    you can import this on top\n",
    "\n",
    "and\n",
    "> import 'KNeighborsClassifier' from sklearn for perform KNN"
   ],
   "metadata": {
    "collapsed": false,
    "pycharm": {
     "name": "#%% md\n"
    }
   }
  },
  {
   "cell_type": "code",
   "execution_count": 113,
   "outputs": [],
   "source": [
    "from sklearn.model_selection import train_test_split\n",
    "from sklearn.neighbors import KNeighborsClassifier\n",
    "\n",
    "xTrain, xTest,yTrain,yTest = train_test_split(dataset[['mass','width','height']], dataset['fruit_label'], test_size=.30, random_state=1)"
   ],
   "metadata": {
    "collapsed": false,
    "pycharm": {
     "name": "#%%\n"
    }
   }
  },
  {
   "cell_type": "code",
   "execution_count": 114,
   "outputs": [
    {
     "data": {
      "text/plain": "49    4\n2     1\n35    3\n47    4\n39    3\n34    3\n38    3\n19    1\n21    1\n52    4\n44    4\n3     2\n36    3\n40    3\n24    3\n10    1\n51    4\n26    3\nName: fruit_label, dtype: int64"
     },
     "execution_count": 114,
     "metadata": {},
     "output_type": "execute_result"
    }
   ],
   "source": [
    "yTest\n"
   ],
   "metadata": {
    "collapsed": false,
    "pycharm": {
     "name": "#%%\n"
    }
   }
  },
  {
   "cell_type": "code",
   "execution_count": 115,
   "outputs": [
    {
     "data": {
      "text/plain": "KNeighborsClassifier(n_neighbors=3)"
     },
     "execution_count": 115,
     "metadata": {},
     "output_type": "execute_result"
    }
   ],
   "source": [
    "knn_model = KNeighborsClassifier(n_neighbors=3)\n",
    "knn_model.fit(xTrain,yTrain)"
   ],
   "metadata": {
    "collapsed": false,
    "pycharm": {
     "name": "#%%\n"
    }
   }
  },
  {
   "cell_type": "code",
   "execution_count": 116,
   "outputs": [
    {
     "data": {
      "text/plain": "0.6666666666666666"
     },
     "execution_count": 116,
     "metadata": {},
     "output_type": "execute_result"
    }
   ],
   "source": [
    "# We can check the accuracy of our classifier\n",
    "knn_model.score(xTest,yTest)"
   ],
   "metadata": {
    "collapsed": false,
    "pycharm": {
     "name": "#%%\n"
    }
   }
  },
  {
   "cell_type": "code",
   "execution_count": 117,
   "outputs": [
    {
     "name": "stderr",
     "output_type": "stream",
     "text": [
      "C:\\Users\\koushik\\anaconda3\\lib\\site-packages\\sklearn\\utils\\validation.py:72: FutureWarning: Beginning in version 0.22, arrays of bytes/strings will be converted to decimal numbers if dtype='numeric'. It is recommended that you convert the array to a float dtype before using it in scikit-learn, for example by using your_array = your_array.astype(np.float64).\n",
      "  return f(**kwargs)\n",
      "C:\\Users\\koushik\\anaconda3\\lib\\site-packages\\sklearn\\utils\\validation.py:72: FutureWarning: Beginning in version 0.22, arrays of bytes/strings will be converted to decimal numbers if dtype='numeric'. It is recommended that you convert the array to a float dtype before using it in scikit-learn, for example by using your_array = your_array.astype(np.float64).\n",
      "  return f(**kwargs)\n"
     ]
    },
    {
     "data": {
      "text/plain": "'lemon'"
     },
     "execution_count": 117,
     "metadata": {},
     "output_type": "execute_result"
    }
   ],
   "source": [
    "prediction=knn_model.predict([['100','6.3','8']])\n",
    "predict[prediction[0]] # we created 'predict dict' in the above"
   ],
   "metadata": {
    "collapsed": false,
    "pycharm": {
     "name": "#%%\n"
    }
   }
  },
  {
   "cell_type": "code",
   "execution_count": 117,
   "outputs": [],
   "source": [],
   "metadata": {
    "collapsed": false,
    "pycharm": {
     "name": "#%%\n"
    }
   }
  },
  {
   "cell_type": "code",
   "execution_count": 118,
   "outputs": [
    {
     "name": "stderr",
     "output_type": "stream",
     "text": [
      "C:\\Users\\koushik\\anaconda3\\lib\\site-packages\\sklearn\\utils\\validation.py:72: FutureWarning: Beginning in version 0.22, arrays of bytes/strings will be converted to decimal numbers if dtype='numeric'. It is recommended that you convert the array to a float dtype before using it in scikit-learn, for example by using your_array = your_array.astype(np.float64).\n",
      "  return f(**kwargs)\n",
      "C:\\Users\\koushik\\anaconda3\\lib\\site-packages\\sklearn\\utils\\validation.py:72: FutureWarning: Beginning in version 0.22, arrays of bytes/strings will be converted to decimal numbers if dtype='numeric'. It is recommended that you convert the array to a float dtype before using it in scikit-learn, for example by using your_array = your_array.astype(np.float64).\n",
      "  return f(**kwargs)\n"
     ]
    },
    {
     "data": {
      "text/plain": "'apple'"
     },
     "execution_count": 118,
     "metadata": {},
     "output_type": "execute_result"
    }
   ],
   "source": [
    "prediction=knn_model.predict([['200','7.3','7.5']])\n",
    "predict[prediction[0]]"
   ],
   "metadata": {
    "collapsed": false,
    "pycharm": {
     "name": "#%%\n"
    }
   }
  }
 ],
 "metadata": {
  "kernelspec": {
   "name": "pycharm-c1ded706",
   "language": "python",
   "display_name": "PyCharm (Mechine Learning with Python)"
  },
  "language_info": {
   "codemirror_mode": {
    "name": "ipython",
    "version": 2
   },
   "file_extension": ".py",
   "mimetype": "text/x-python",
   "name": "python",
   "nbconvert_exporter": "python",
   "pygments_lexer": "ipython2",
   "version": "2.7.6"
  }
 },
 "nbformat": 4,
 "nbformat_minor": 0
}