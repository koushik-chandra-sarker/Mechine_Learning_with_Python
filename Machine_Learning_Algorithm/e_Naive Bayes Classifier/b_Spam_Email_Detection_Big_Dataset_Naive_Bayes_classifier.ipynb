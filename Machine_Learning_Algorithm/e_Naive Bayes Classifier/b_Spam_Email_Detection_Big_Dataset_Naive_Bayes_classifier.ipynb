{
 "cells": [
  {
   "cell_type": "markdown",
   "metadata": {
    "collapsed": true,
    "pycharm": {
     "name": "#%% md\n"
    }
   },
   "source": [
    "### Spam Email Detection using Naive Bayes Classifier Algorithm.\n",
    ">Here, I will use a large dataset that contain more than 5 thousand data.\n"
   ]
  },
  {
   "cell_type": "code",
   "execution_count": 143,
   "outputs": [
    {
     "data": {
      "text/plain": "                                                   text  spam\n0     Subject: naturally irresistible your corporate...     1\n1     Subject: the stock trading gunslinger  fanny i...     1\n2     Subject: unbelievable new homes made easy  im ...     1\n3     Subject: 4 color printing special  request add...     1\n4     Subject: do not have money , get software cds ...     1\n...                                                 ...   ...\n5723  Subject: re : research and development charges...     0\n5724  Subject: re : receipts from visit  jim ,  than...     0\n5725  Subject: re : enron case study update  wow ! a...     0\n5726  Subject: re : interest  david ,  please , call...     0\n5727  Subject: news : aurora 5 . 2 update  aurora ve...     0\n\n[5728 rows x 2 columns]",
      "text/html": "<div>\n<style scoped>\n    .dataframe tbody tr th:only-of-type {\n        vertical-align: middle;\n    }\n\n    .dataframe tbody tr th {\n        vertical-align: top;\n    }\n\n    .dataframe thead th {\n        text-align: right;\n    }\n</style>\n<table border=\"1\" class=\"dataframe\">\n  <thead>\n    <tr style=\"text-align: right;\">\n      <th></th>\n      <th>text</th>\n      <th>spam</th>\n    </tr>\n  </thead>\n  <tbody>\n    <tr>\n      <th>0</th>\n      <td>Subject: naturally irresistible your corporate...</td>\n      <td>1</td>\n    </tr>\n    <tr>\n      <th>1</th>\n      <td>Subject: the stock trading gunslinger  fanny i...</td>\n      <td>1</td>\n    </tr>\n    <tr>\n      <th>2</th>\n      <td>Subject: unbelievable new homes made easy  im ...</td>\n      <td>1</td>\n    </tr>\n    <tr>\n      <th>3</th>\n      <td>Subject: 4 color printing special  request add...</td>\n      <td>1</td>\n    </tr>\n    <tr>\n      <th>4</th>\n      <td>Subject: do not have money , get software cds ...</td>\n      <td>1</td>\n    </tr>\n    <tr>\n      <th>...</th>\n      <td>...</td>\n      <td>...</td>\n    </tr>\n    <tr>\n      <th>5723</th>\n      <td>Subject: re : research and development charges...</td>\n      <td>0</td>\n    </tr>\n    <tr>\n      <th>5724</th>\n      <td>Subject: re : receipts from visit  jim ,  than...</td>\n      <td>0</td>\n    </tr>\n    <tr>\n      <th>5725</th>\n      <td>Subject: re : enron case study update  wow ! a...</td>\n      <td>0</td>\n    </tr>\n    <tr>\n      <th>5726</th>\n      <td>Subject: re : interest  david ,  please , call...</td>\n      <td>0</td>\n    </tr>\n    <tr>\n      <th>5727</th>\n      <td>Subject: news : aurora 5 . 2 update  aurora ve...</td>\n      <td>0</td>\n    </tr>\n  </tbody>\n</table>\n<p>5728 rows × 2 columns</p>\n</div>"
     },
     "execution_count": 143,
     "metadata": {},
     "output_type": "execute_result"
    }
   ],
   "source": [
    "import pandas as pd\n",
    "\n",
    "dataset = pd.read_csv(\"emails.csv\")\n",
    "dataset"
   ],
   "metadata": {
    "collapsed": false,
    "pycharm": {
     "name": "#%%\n"
    }
   }
  },
  {
   "cell_type": "code",
   "execution_count": 144,
   "outputs": [
    {
     "data": {
      "text/plain": "0    4360\n1    1368\nName: spam, dtype: int64"
     },
     "execution_count": 144,
     "metadata": {},
     "output_type": "execute_result"
    }
   ],
   "source": [
    "dataset.spam.value_counts()"
   ],
   "metadata": {
    "collapsed": false,
    "pycharm": {
     "name": "#%%\n"
    }
   }
  },
  {
   "cell_type": "markdown",
   "source": [
    "> In this dataset spam-> 1 means emails is spam and 0 means ham(not spam).\n",
    "\n",
    "##### Now we need to check whether  missing value present or not."
   ],
   "metadata": {
    "collapsed": false,
    "pycharm": {
     "name": "#%% md\n"
    }
   }
  },
  {
   "cell_type": "code",
   "execution_count": 145,
   "outputs": [
    {
     "data": {
      "text/plain": "text    False\nspam    False\ndtype: bool"
     },
     "execution_count": 145,
     "metadata": {},
     "output_type": "execute_result"
    }
   ],
   "source": [
    "dataset.isnull().any()"
   ],
   "metadata": {
    "collapsed": false,
    "pycharm": {
     "name": "#%%\n"
    }
   }
  },
  {
   "cell_type": "markdown",
   "source": [
    "> Here text and spam both are return false according to missing value.\n",
    " so there are no missing value.\n",
    "\n",
    "> if the dataset's feature contain duplicate value then drop it"
   ],
   "metadata": {
    "collapsed": false,
    "pycharm": {
     "name": "#%% md\n"
    }
   }
  },
  {
   "cell_type": "code",
   "execution_count": 146,
   "outputs": [
    {
     "data": {
      "text/plain": "(5728, 2)"
     },
     "execution_count": 146,
     "metadata": {},
     "output_type": "execute_result"
    }
   ],
   "source": [
    "# Before drop duplicate value dataset size:\n",
    "dataset.shape"
   ],
   "metadata": {
    "collapsed": false,
    "pycharm": {
     "name": "#%%\n"
    }
   }
  },
  {
   "cell_type": "code",
   "execution_count": 147,
   "outputs": [
    {
     "data": {
      "text/plain": "(5695, 2)"
     },
     "execution_count": 147,
     "metadata": {},
     "output_type": "execute_result"
    }
   ],
   "source": [
    "dataset.drop_duplicates(inplace=True)\n",
    "# After dropped duplicate value dataset size:\n",
    "dataset.shape"
   ],
   "metadata": {
    "collapsed": false,
    "pycharm": {
     "name": "#%%\n"
    }
   }
  },
  {
   "cell_type": "markdown",
   "source": [
    "> Now Split the dataset into train and text dataset"
   ],
   "metadata": {
    "collapsed": false,
    "pycharm": {
     "name": "#%% md\n"
    }
   }
  },
  {
   "cell_type": "code",
   "execution_count": 148,
   "outputs": [
    {
     "data": {
      "text/plain": "165     Subject: new love tabs shop .  visit our llcen...\n3606    Subject: ca for henwood engagement  bonnie ,  ...\n5670    Subject: datren williams acceptance  fyi  - - ...\n394     Subject: upside pressure signals institutional...\n1179    Subject: the reason to sh . op in our zone ? f...\n                              ...                        \n905     Subject: i know your company !  lt is really h...\n5213    Subject: re : transition to research group - a...\n3994    Subject: it ' s time for prc  it ' s time once...\n235     Subject: returned mail : see transcript for de...\n5177    Subject: here ' s the typeset version  vince ,...\nName: text, Length: 4556, dtype: object"
     },
     "execution_count": 148,
     "metadata": {},
     "output_type": "execute_result"
    }
   ],
   "source": [
    "from sklearn.model_selection import train_test_split\n",
    "\n",
    "xTrain, xTest, yTrain, yTest = train_test_split(dataset.text, dataset.spam, test_size=0.2, random_state=1)\n",
    "\n",
    "xTrain"
   ],
   "metadata": {
    "collapsed": false,
    "pycharm": {
     "name": "#%%\n"
    }
   }
  },
  {
   "cell_type": "markdown",
   "source": [
    "> #### Now we need to preprocess our dataset using 'CounterVector',it gives a vector array for every unique word."
   ],
   "metadata": {
    "collapsed": false,
    "pycharm": {
     "name": "#%% md\n"
    }
   }
  },
  {
   "cell_type": "code",
   "execution_count": 149,
   "outputs": [
    {
     "data": {
      "text/plain": "array([[0, 0, 0, ..., 0, 0, 0],\n       [0, 0, 0, ..., 0, 0, 0],\n       [0, 0, 0, ..., 0, 0, 0],\n       ...,\n       [0, 0, 0, ..., 0, 0, 0],\n       [0, 0, 0, ..., 0, 0, 0],\n       [0, 0, 0, ..., 0, 0, 0]], dtype=int64)"
     },
     "execution_count": 149,
     "metadata": {},
     "output_type": "execute_result"
    }
   ],
   "source": [
    "from sklearn.feature_extraction.text import CountVectorizer\n",
    "\n",
    "cv = CountVectorizer()\n",
    "xTrain=cv.fit_transform(xTrain)\n",
    "xTest = cv.transform(xTest)\n",
    "xTrain.toarray()"
   ],
   "metadata": {
    "collapsed": false,
    "pycharm": {
     "name": "#%%\n"
    }
   }
  },
  {
   "cell_type": "code",
   "execution_count": 150,
   "outputs": [
    {
     "data": {
      "text/plain": "array([[0, 0, 0, ..., 0, 0, 0],\n       [0, 0, 0, ..., 0, 0, 0],\n       [1, 0, 0, ..., 0, 0, 0],\n       ...,\n       [0, 1, 0, ..., 0, 0, 0],\n       [0, 0, 0, ..., 0, 0, 0],\n       [2, 0, 0, ..., 0, 0, 0]], dtype=int64)"
     },
     "execution_count": 150,
     "metadata": {},
     "output_type": "execute_result"
    }
   ],
   "source": [
    "xTest.toarray()"
   ],
   "metadata": {
    "collapsed": false,
    "pycharm": {
     "name": "#%%\n"
    }
   }
  },
  {
   "cell_type": "markdown",
   "source": [
    "> Now Create Multinomial Naive Bayes Model and train it"
   ],
   "metadata": {
    "collapsed": false
   }
  },
  {
   "cell_type": "code",
   "execution_count": 151,
   "outputs": [
    {
     "data": {
      "text/plain": "MultinomialNB()"
     },
     "execution_count": 151,
     "metadata": {},
     "output_type": "execute_result"
    }
   ],
   "source": [
    "from sklearn.naive_bayes import MultinomialNB\n",
    "\n",
    "MNB = MultinomialNB()\n",
    "MNB.fit(xTrain, yTrain)"
   ],
   "metadata": {
    "collapsed": false,
    "pycharm": {
     "name": "#%%\n"
    }
   }
  },
  {
   "cell_type": "markdown",
   "source": [
    "> Check Accuracy"
   ],
   "metadata": {
    "collapsed": false,
    "pycharm": {
     "name": "#%% md\n"
    }
   }
  },
  {
   "cell_type": "code",
   "execution_count": 152,
   "outputs": [
    {
     "data": {
      "text/plain": "0.9938542581211589"
     },
     "execution_count": 152,
     "metadata": {},
     "output_type": "execute_result"
    }
   ],
   "source": [
    "MNB.score(xTest,yTest)"
   ],
   "metadata": {
    "collapsed": false,
    "pycharm": {
     "name": "#%%\n"
    }
   }
  },
  {
   "cell_type": "markdown",
   "source": [
    "> The modal gives 99% accurate result\n",
    "\n",
    "> ## Now predict result by an email"
   ],
   "metadata": {
    "collapsed": false
   }
  },
  {
   "cell_type": "code",
   "execution_count": 153,
   "outputs": [
    {
     "data": {
      "text/plain": "array([1], dtype=int64)"
     },
     "execution_count": 153,
     "metadata": {},
     "output_type": "execute_result"
    }
   ],
   "source": [
    "email = cv.transform([\"An email promising you that you can make $1 million from a work-at-home opportunity.\"])\n",
    "\n",
    "MNB.predict(email)"
   ],
   "metadata": {
    "collapsed": false,
    "pycharm": {
     "name": "#%%\n"
    }
   }
  },
  {
   "cell_type": "markdown",
   "source": [
    "> It returns 1 because this email is spam"
   ],
   "metadata": {
    "collapsed": false
   }
  },
  {
   "cell_type": "code",
   "execution_count": 154,
   "outputs": [
    {
     "data": {
      "text/plain": "array([0], dtype=int64)"
     },
     "execution_count": 154,
     "metadata": {},
     "output_type": "execute_result"
    }
   ],
   "source": [
    "email = cv.transform([\"Hey, i am koushik. can you give me your book?\"])\n",
    "\n",
    "MNB.predict(email)"
   ],
   "metadata": {
    "collapsed": false,
    "pycharm": {
     "name": "#%%\n"
    }
   }
  },
  {
   "cell_type": "markdown",
   "source": [
    "> It returns 0 because this email is not_spam (ham)"
   ],
   "metadata": {
    "collapsed": false
   }
  }
 ],
 "metadata": {
  "kernelspec": {
   "name": "pycharm-c1ded706",
   "language": "python",
   "display_name": "PyCharm (Mechine Learning with Python)"
  },
  "language_info": {
   "codemirror_mode": {
    "name": "ipython",
    "version": 2
   },
   "file_extension": ".py",
   "mimetype": "text/x-python",
   "name": "python",
   "nbconvert_exporter": "python",
   "pygments_lexer": "ipython2",
   "version": "2.7.6"
  }
 },
 "nbformat": 4,
 "nbformat_minor": 0
}