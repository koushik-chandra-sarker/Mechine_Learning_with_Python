{
 "cells": [
  {
   "cell_type": "markdown",
   "metadata": {
    "collapsed": true,
    "pycharm": {
     "name": "#%% md\n"
    }
   },
   "source": [
    "### Multiple Linear Regression (MLR)\n",
    "> It is the extension of simple linear regression that predicts a response using two or more features\n",
    "\n",
    "### Implementation of multiple linear Regression\n",
    "#### For implementation, we need to import 'Numpy', 'pandas', and 'matplotlib' and some module from 'sklearn' kit\n",
    "\n",
    "# About Dataset(Admission predict.csv)\n",
    "### Context\n",
    ">This dataset is created for prediction of Graduate Admissions from an Indian perspective.\n",
    "\n",
    "###Content\n",
    ">The dataset contains several parameters which are considered important during the application for Masters Programs.\n",
    "The parameters included are :\n",
    "\n",
    ">GRE Scores ( out of 340 )\n",
    "\n",
    ">TOEFL Scores ( out of 120 )\n",
    "\n",
    ">University Rating ( out of 5 )\n",
    "\n",
    ">Statement of Purpose and Letter of Recommendation Strength ( out of 5 )\n",
    "\n",
    ">Undergraduate GPA ( out of 10 )\n",
    "\n",
    ">Research Experience ( either 0 or 1 )\n",
    "\n",
    ">Chance of Admit ( ranging from 0 to 1 )\n",
    "\n",
    "###Acknowledgements\n",
    ">This dataset is inspired by the UCLA Graduate Dataset. The test scores and GPA are in the older format.\n",
    ">The dataset is owned by Mohan S Acharya."
   ]
  },
  {
   "cell_type": "code",
   "execution_count": 185,
   "outputs": [],
   "source": [
    "import numpy as np\n",
    "import pandas as pd\n",
    "import matplotlib.pyplot as plt\n",
    "import sklearn.linear_model as lm"
   ],
   "metadata": {
    "collapsed": false,
    "pycharm": {
     "name": "#%%\n"
    }
   }
  },
  {
   "cell_type": "markdown",
   "source": [
    "###Read dataset from 'Speed_vs_Risk.csv' file using pandas"
   ],
   "metadata": {
    "collapsed": false
   }
  },
  {
   "cell_type": "code",
   "execution_count": 186,
   "outputs": [
    {
     "data": {
      "text/plain": "     Serial No.  GRE Score  TOEFL Score  University Rating  SOP  LOR  CGPA  \\\n0             1        337          118                  4  4.5  4.5  9.65   \n1             2        324          107                  4  4.0  4.5  8.87   \n2             3        316          104                  3  3.0  3.5  8.00   \n3             4        322          110                  3  3.5  2.5  8.67   \n4             5        314          103                  2  2.0  3.0  8.21   \n..          ...        ...          ...                ...  ...  ...   ...   \n395         396        324          110                  3  3.5  3.5  9.04   \n396         397        325          107                  3  3.0  3.5  9.11   \n397         398        330          116                  4  5.0  4.5  9.45   \n398         399        312          103                  3  3.5  4.0  8.78   \n399         400        333          117                  4  5.0  4.0  9.66   \n\n     Research  Chance_of_Admit  \n0           1             0.92  \n1           1             0.76  \n2           1             0.72  \n3           1             0.80  \n4           0             0.65  \n..        ...              ...  \n395         1             0.82  \n396         1             0.84  \n397         1             0.91  \n398         0             0.67  \n399         1             0.95  \n\n[400 rows x 9 columns]",
      "text/html": "<div>\n<style scoped>\n    .dataframe tbody tr th:only-of-type {\n        vertical-align: middle;\n    }\n\n    .dataframe tbody tr th {\n        vertical-align: top;\n    }\n\n    .dataframe thead th {\n        text-align: right;\n    }\n</style>\n<table border=\"1\" class=\"dataframe\">\n  <thead>\n    <tr style=\"text-align: right;\">\n      <th></th>\n      <th>Serial No.</th>\n      <th>GRE Score</th>\n      <th>TOEFL Score</th>\n      <th>University Rating</th>\n      <th>SOP</th>\n      <th>LOR</th>\n      <th>CGPA</th>\n      <th>Research</th>\n      <th>Chance_of_Admit</th>\n    </tr>\n  </thead>\n  <tbody>\n    <tr>\n      <th>0</th>\n      <td>1</td>\n      <td>337</td>\n      <td>118</td>\n      <td>4</td>\n      <td>4.5</td>\n      <td>4.5</td>\n      <td>9.65</td>\n      <td>1</td>\n      <td>0.92</td>\n    </tr>\n    <tr>\n      <th>1</th>\n      <td>2</td>\n      <td>324</td>\n      <td>107</td>\n      <td>4</td>\n      <td>4.0</td>\n      <td>4.5</td>\n      <td>8.87</td>\n      <td>1</td>\n      <td>0.76</td>\n    </tr>\n    <tr>\n      <th>2</th>\n      <td>3</td>\n      <td>316</td>\n      <td>104</td>\n      <td>3</td>\n      <td>3.0</td>\n      <td>3.5</td>\n      <td>8.00</td>\n      <td>1</td>\n      <td>0.72</td>\n    </tr>\n    <tr>\n      <th>3</th>\n      <td>4</td>\n      <td>322</td>\n      <td>110</td>\n      <td>3</td>\n      <td>3.5</td>\n      <td>2.5</td>\n      <td>8.67</td>\n      <td>1</td>\n      <td>0.80</td>\n    </tr>\n    <tr>\n      <th>4</th>\n      <td>5</td>\n      <td>314</td>\n      <td>103</td>\n      <td>2</td>\n      <td>2.0</td>\n      <td>3.0</td>\n      <td>8.21</td>\n      <td>0</td>\n      <td>0.65</td>\n    </tr>\n    <tr>\n      <th>...</th>\n      <td>...</td>\n      <td>...</td>\n      <td>...</td>\n      <td>...</td>\n      <td>...</td>\n      <td>...</td>\n      <td>...</td>\n      <td>...</td>\n      <td>...</td>\n    </tr>\n    <tr>\n      <th>395</th>\n      <td>396</td>\n      <td>324</td>\n      <td>110</td>\n      <td>3</td>\n      <td>3.5</td>\n      <td>3.5</td>\n      <td>9.04</td>\n      <td>1</td>\n      <td>0.82</td>\n    </tr>\n    <tr>\n      <th>396</th>\n      <td>397</td>\n      <td>325</td>\n      <td>107</td>\n      <td>3</td>\n      <td>3.0</td>\n      <td>3.5</td>\n      <td>9.11</td>\n      <td>1</td>\n      <td>0.84</td>\n    </tr>\n    <tr>\n      <th>397</th>\n      <td>398</td>\n      <td>330</td>\n      <td>116</td>\n      <td>4</td>\n      <td>5.0</td>\n      <td>4.5</td>\n      <td>9.45</td>\n      <td>1</td>\n      <td>0.91</td>\n    </tr>\n    <tr>\n      <th>398</th>\n      <td>399</td>\n      <td>312</td>\n      <td>103</td>\n      <td>3</td>\n      <td>3.5</td>\n      <td>4.0</td>\n      <td>8.78</td>\n      <td>0</td>\n      <td>0.67</td>\n    </tr>\n    <tr>\n      <th>399</th>\n      <td>400</td>\n      <td>333</td>\n      <td>117</td>\n      <td>4</td>\n      <td>5.0</td>\n      <td>4.0</td>\n      <td>9.66</td>\n      <td>1</td>\n      <td>0.95</td>\n    </tr>\n  </tbody>\n</table>\n<p>400 rows × 9 columns</p>\n</div>"
     },
     "execution_count": 186,
     "metadata": {},
     "output_type": "execute_result"
    }
   ],
   "source": [
    "dataset = pd.read_csv('Admission_Predict.csv')\n",
    "\n",
    "dataset"
   ],
   "metadata": {
    "collapsed": false,
    "pycharm": {
     "name": "#%%\n"
    }
   }
  },
  {
   "cell_type": "code",
   "execution_count": 187,
   "outputs": [
    {
     "data": {
      "text/plain": "(400, 9)"
     },
     "execution_count": 187,
     "metadata": {},
     "output_type": "execute_result"
    }
   ],
   "source": [
    "dataset.shape"
   ],
   "metadata": {
    "collapsed": false,
    "pycharm": {
     "name": "#%%\n"
    }
   }
  },
  {
   "cell_type": "markdown",
   "source": [
    "### Check the Missing value and fill it\n",
    "> if dataset contain null value, you must have to drop the row ar fill the null value\n",
    "    using\n",
    "\n",
    "> data_frame.dropna()\n",
    "\n",
    "or\n",
    "> data_frame.column_name.fillna(value=data_frame.column_name.mean())"
   ],
   "metadata": {
    "collapsed": false
   }
  },
  {
   "cell_type": "code",
   "execution_count": 188,
   "outputs": [
    {
     "data": {
      "text/plain": "Serial No.           False\nGRE Score            False\nTOEFL Score          False\nUniversity Rating    False\nSOP                  False\nLOR                  False\nCGPA                 False\nResearch             False\nChance_of_Admit      False\ndtype: bool"
     },
     "execution_count": 188,
     "metadata": {},
     "output_type": "execute_result"
    }
   ],
   "source": [
    "dataset.isnull().any()"
   ],
   "metadata": {
    "collapsed": false,
    "pycharm": {
     "name": "#%%\n"
    }
   }
  },
  {
   "cell_type": "code",
   "execution_count": 189,
   "outputs": [
    {
     "data": {
      "text/plain": "Serial No.           0\nGRE Score            0\nTOEFL Score          0\nUniversity Rating    0\nSOP                  0\nLOR                  0\nCGPA                 0\nResearch             0\nChance_of_Admit      0\ndtype: int64"
     },
     "execution_count": 189,
     "metadata": {},
     "output_type": "execute_result"
    }
   ],
   "source": [
    "# or\n",
    "dataset.isnull().sum()"
   ],
   "metadata": {
    "collapsed": false,
    "pycharm": {
     "name": "#%%\n"
    }
   }
  },
  {
   "cell_type": "markdown",
   "source": [
    "#### Create Linear Regression Object and train model"
   ],
   "metadata": {
    "collapsed": false,
    "pycharm": {
     "name": "#%% md\n"
    }
   }
  },
  {
   "cell_type": "code",
   "execution_count": 190,
   "outputs": [
    {
     "data": {
      "text/plain": "     GRE Score  TOEFL Score  University Rating  SOP  LOR  CGPA  Research\n268        327          113                  4  4.5  5.0  9.14         0\n204        298          105                  3  3.5  4.0  8.54         0\n171        334          117                  5  4.0  4.5  9.07         1\n62         304          105                  2  3.0  3.0  8.20         1\n385        335          117                  5  5.0  5.0  9.82         1\n..         ...          ...                ...  ...  ...   ...       ...\n255        307          110                  4  4.0  4.5  8.37         0\n72         321          111                  5  5.0  5.0  9.45         1\n396        325          107                  3  3.0  3.5  9.11         1\n235        326          111                  5  4.5  4.0  9.23         1\n37         300          105                  1  1.0  2.0  7.80         0\n\n[360 rows x 7 columns]",
      "text/html": "<div>\n<style scoped>\n    .dataframe tbody tr th:only-of-type {\n        vertical-align: middle;\n    }\n\n    .dataframe tbody tr th {\n        vertical-align: top;\n    }\n\n    .dataframe thead th {\n        text-align: right;\n    }\n</style>\n<table border=\"1\" class=\"dataframe\">\n  <thead>\n    <tr style=\"text-align: right;\">\n      <th></th>\n      <th>GRE Score</th>\n      <th>TOEFL Score</th>\n      <th>University Rating</th>\n      <th>SOP</th>\n      <th>LOR</th>\n      <th>CGPA</th>\n      <th>Research</th>\n    </tr>\n  </thead>\n  <tbody>\n    <tr>\n      <th>268</th>\n      <td>327</td>\n      <td>113</td>\n      <td>4</td>\n      <td>4.5</td>\n      <td>5.0</td>\n      <td>9.14</td>\n      <td>0</td>\n    </tr>\n    <tr>\n      <th>204</th>\n      <td>298</td>\n      <td>105</td>\n      <td>3</td>\n      <td>3.5</td>\n      <td>4.0</td>\n      <td>8.54</td>\n      <td>0</td>\n    </tr>\n    <tr>\n      <th>171</th>\n      <td>334</td>\n      <td>117</td>\n      <td>5</td>\n      <td>4.0</td>\n      <td>4.5</td>\n      <td>9.07</td>\n      <td>1</td>\n    </tr>\n    <tr>\n      <th>62</th>\n      <td>304</td>\n      <td>105</td>\n      <td>2</td>\n      <td>3.0</td>\n      <td>3.0</td>\n      <td>8.20</td>\n      <td>1</td>\n    </tr>\n    <tr>\n      <th>385</th>\n      <td>335</td>\n      <td>117</td>\n      <td>5</td>\n      <td>5.0</td>\n      <td>5.0</td>\n      <td>9.82</td>\n      <td>1</td>\n    </tr>\n    <tr>\n      <th>...</th>\n      <td>...</td>\n      <td>...</td>\n      <td>...</td>\n      <td>...</td>\n      <td>...</td>\n      <td>...</td>\n      <td>...</td>\n    </tr>\n    <tr>\n      <th>255</th>\n      <td>307</td>\n      <td>110</td>\n      <td>4</td>\n      <td>4.0</td>\n      <td>4.5</td>\n      <td>8.37</td>\n      <td>0</td>\n    </tr>\n    <tr>\n      <th>72</th>\n      <td>321</td>\n      <td>111</td>\n      <td>5</td>\n      <td>5.0</td>\n      <td>5.0</td>\n      <td>9.45</td>\n      <td>1</td>\n    </tr>\n    <tr>\n      <th>396</th>\n      <td>325</td>\n      <td>107</td>\n      <td>3</td>\n      <td>3.0</td>\n      <td>3.5</td>\n      <td>9.11</td>\n      <td>1</td>\n    </tr>\n    <tr>\n      <th>235</th>\n      <td>326</td>\n      <td>111</td>\n      <td>5</td>\n      <td>4.5</td>\n      <td>4.0</td>\n      <td>9.23</td>\n      <td>1</td>\n    </tr>\n    <tr>\n      <th>37</th>\n      <td>300</td>\n      <td>105</td>\n      <td>1</td>\n      <td>1.0</td>\n      <td>2.0</td>\n      <td>7.80</td>\n      <td>0</td>\n    </tr>\n  </tbody>\n</table>\n<p>360 rows × 7 columns</p>\n</div>"
     },
     "execution_count": 190,
     "metadata": {},
     "output_type": "execute_result"
    }
   ],
   "source": [
    "regression = lm.LinearRegression()\n",
    "\n",
    "from sklearn.model_selection import train_test_split\n",
    "\n",
    "xTrain, xTest,yTrain,yTest = train_test_split(dataset[['GRE Score', 'TOEFL Score', 'University Rating', 'SOP',\"LOR\", 'CGPA', 'Research']], dataset['Chance_of_Admit'], test_size=.10, random_state=1)\n",
    "\n",
    "xTrain\n",
    "\n"
   ],
   "metadata": {
    "collapsed": false,
    "pycharm": {
     "name": "#%%\n"
    }
   }
  },
  {
   "cell_type": "code",
   "execution_count": 191,
   "outputs": [
    {
     "data": {
      "text/plain": "LinearRegression()"
     },
     "execution_count": 191,
     "metadata": {},
     "output_type": "execute_result"
    }
   ],
   "source": [
    "regression.fit(xTrain, yTrain)"
   ],
   "metadata": {
    "collapsed": false,
    "pycharm": {
     "name": "#%%\n"
    }
   }
  },
  {
   "cell_type": "code",
   "execution_count": 192,
   "outputs": [
    {
     "data": {
      "text/plain": "array([0.72327041, 0.69093664, 0.78647694, 0.77752169, 0.85290464,\n       0.64195123, 0.63704381, 0.55038788, 0.48957177, 0.93392677,\n       0.81361487, 0.93372992, 0.87969987, 0.64597564, 0.72793137,\n       0.68594451, 0.81724899, 0.86490837, 0.5089501 , 0.69090231,\n       0.65755249, 0.77780105, 0.8351013 , 0.91917253, 0.65433576,\n       0.57110342, 0.72391355, 0.70874638, 0.90288107, 0.65502534,\n       0.94927974, 0.63446505, 0.79076281, 0.78386048, 0.71353881,\n       0.6479597 , 0.43337089, 0.65439085, 0.90624654, 0.7656549 ])"
     },
     "execution_count": 192,
     "metadata": {},
     "output_type": "execute_result"
    }
   ],
   "source": [
    "regression.predict(xTest)"
   ],
   "metadata": {
    "collapsed": false,
    "pycharm": {
     "name": "#%%\n"
    }
   }
  },
  {
   "cell_type": "code",
   "execution_count": 193,
   "outputs": [
    {
     "data": {
      "text/plain": "398    0.67\n125    0.64\n328    0.80\n339    0.81\n172    0.86\n342    0.58\n197    0.73\n291    0.56\n29     0.54\n284    0.94\n174    0.87\n372    0.95\n188    0.93\n324    0.67\n321    0.73\n227    0.64\n371    0.89\n5      0.90\n78     0.44\n223    0.71\n122    0.57\n242    0.70\n382    0.82\n214    0.94\n17     0.65\n92     0.34\n366    0.74\n201    0.72\n361    0.93\n207    0.66\n81     0.96\n4      0.65\n165    0.78\n275    0.78\n6      0.75\n80     0.50\n58     0.36\n102    0.62\n397    0.91\n139    0.78\nName: Chance_of_Admit, dtype: float64"
     },
     "execution_count": 193,
     "metadata": {},
     "output_type": "execute_result"
    }
   ],
   "source": [
    "yTest"
   ],
   "metadata": {
    "collapsed": false,
    "pycharm": {
     "name": "#%%\n"
    }
   }
  }
 ],
 "metadata": {
  "kernelspec": {
   "name": "pycharm-c1ded706",
   "language": "python",
   "display_name": "PyCharm (Mechine Learning with Python)"
  },
  "language_info": {
   "codemirror_mode": {
    "name": "ipython",
    "version": 2
   },
   "file_extension": ".py",
   "mimetype": "text/x-python",
   "name": "python",
   "nbconvert_exporter": "python",
   "pygments_lexer": "ipython2",
   "version": "2.7.6"
  }
 },
 "nbformat": 4,
 "nbformat_minor": 0
}