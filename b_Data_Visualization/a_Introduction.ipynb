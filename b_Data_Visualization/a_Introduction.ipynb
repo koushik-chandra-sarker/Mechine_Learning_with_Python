{
 "cells": [
  {
   "cell_type": "markdown",
   "metadata": {
    "collapsed": true,
    "pycharm": {
     "name": "#%% md\n"
    }
   },
   "source": [
    "# Matplotlib\n",
    "\n",
    "Matplotlib is a plotting library for Python which may be used interactively or embedded in stand-alone GUIs.\n",
    "Its compact \"pyplot\" interface is similar to the plotting functions of MATLAB®.\n",
    "\n",
    "# Installation of Matplotlib\n",
    "\n",
    "* pip install matplotlib\n",
    "* conda install matplotlib\n",
    "\n",
    "\n",
    "# Import Matplotlib\n",
    "After installing complete, import it in your application\n",
    "> import matplotlib\n",
    "\n",
    "\n",
    "# Matplotlib Pyplot\n",
    "matplotlib.pyplot is a collection of command style functions that make Matplotlib work like MATLAB.\n",
    "\n",
    "# Import Pyplot\n",
    "> import matplotlib.pyplot as plt"
   ]
  }
 ],
 "metadata": {
  "kernelspec": {
   "display_name": "Python 3",
   "language": "python",
   "name": "python3"
  },
  "language_info": {
   "codemirror_mode": {
    "name": "ipython",
    "version": 2
   },
   "file_extension": ".py",
   "mimetype": "text/x-python",
   "name": "python",
   "nbconvert_exporter": "python",
   "pygments_lexer": "ipython2",
   "version": "2.7.6"
  }
 },
 "nbformat": 4,
 "nbformat_minor": 0
}