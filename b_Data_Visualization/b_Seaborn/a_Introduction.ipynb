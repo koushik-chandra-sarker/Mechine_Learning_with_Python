{
 "cells": [
  {
   "cell_type": "markdown",
   "metadata": {
    "collapsed": true,
    "pycharm": {
     "name": "#%% md\n"
    }
   },
   "source": [
    "# Seaborn: statistical data visualization\n",
    "Seaborn is a Python data visualization library based on matplotlib. It provides a high-level interface for\n",
    "drawing attractive and informative statistical graphics.\n",
    "\n",
    "# Import seaborn\n",
    "> import seaborn as sns\n",
    "\n",
    "# Apply the default theme\n",
    "> sns.set_theme()\n",
    "\n",
    "Behind the scenes, seaborn uses matplotlib to draw its plots. For interactive work, it’s recommended to use\n",
    "a Jupyter/IPython interface in matplotlib mode, or else you’ll have to call matplotlib.pyplot.show()\n",
    "when you want to see the plot.\n",
    "\n",
    "# Installing Seaborn\n",
    "> pip install seaborn\n",
    "> conda install seaborn"
   ]
  }
 ],
 "metadata": {
  "kernelspec": {
   "display_name": "Python 3",
   "language": "python",
   "name": "python3"
  },
  "language_info": {
   "codemirror_mode": {
    "name": "ipython",
    "version": 2
   },
   "file_extension": ".py",
   "mimetype": "text/x-python",
   "name": "python",
   "nbconvert_exporter": "python",
   "pygments_lexer": "ipython2",
   "version": "2.7.6"
  }
 },
 "nbformat": 4,
 "nbformat_minor": 0
}