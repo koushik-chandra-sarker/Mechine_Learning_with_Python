{
 "cells": [
  {
   "cell_type": "code",
   "execution_count": 387,
   "metadata": {
    "collapsed": true,
    "pycharm": {
     "name": "#%%\n"
    }
   },
   "outputs": [
    {
     "data": {
      "text/plain": "          x         y         z\na  0.719249  0.103965  0.026209\nb -0.142629 -0.392469  0.386912\nc  0.453347 -0.587618 -0.545210\nd -0.073613  0.637780 -1.001164\ne  1.740632 -0.597888 -0.029214",
      "text/html": "<div>\n<style scoped>\n    .dataframe tbody tr th:only-of-type {\n        vertical-align: middle;\n    }\n\n    .dataframe tbody tr th {\n        vertical-align: top;\n    }\n\n    .dataframe thead th {\n        text-align: right;\n    }\n</style>\n<table border=\"1\" class=\"dataframe\">\n  <thead>\n    <tr style=\"text-align: right;\">\n      <th></th>\n      <th>x</th>\n      <th>y</th>\n      <th>z</th>\n    </tr>\n  </thead>\n  <tbody>\n    <tr>\n      <th>a</th>\n      <td>0.719249</td>\n      <td>0.103965</td>\n      <td>0.026209</td>\n    </tr>\n    <tr>\n      <th>b</th>\n      <td>-0.142629</td>\n      <td>-0.392469</td>\n      <td>0.386912</td>\n    </tr>\n    <tr>\n      <th>c</th>\n      <td>0.453347</td>\n      <td>-0.587618</td>\n      <td>-0.545210</td>\n    </tr>\n    <tr>\n      <th>d</th>\n      <td>-0.073613</td>\n      <td>0.637780</td>\n      <td>-1.001164</td>\n    </tr>\n    <tr>\n      <th>e</th>\n      <td>1.740632</td>\n      <td>-0.597888</td>\n      <td>-0.029214</td>\n    </tr>\n  </tbody>\n</table>\n</div>"
     },
     "execution_count": 387,
     "metadata": {},
     "output_type": "execute_result"
    }
   ],
   "source": [
    "import pandas as pd\n",
    "from numpy.random import randn\n",
    "\n",
    "df=pd.DataFrame(randn(5,3),['a','b','c','d','e'],['x','y','z'])\n",
    "df"
   ]
  },
  {
   "cell_type": "code",
   "execution_count": 388,
   "outputs": [
    {
     "data": {
      "text/plain": "       x      y      z\na   True   True   True\nb  False  False   True\nc   True  False  False\nd  False   True  False\ne   True  False  False",
      "text/html": "<div>\n<style scoped>\n    .dataframe tbody tr th:only-of-type {\n        vertical-align: middle;\n    }\n\n    .dataframe tbody tr th {\n        vertical-align: top;\n    }\n\n    .dataframe thead th {\n        text-align: right;\n    }\n</style>\n<table border=\"1\" class=\"dataframe\">\n  <thead>\n    <tr style=\"text-align: right;\">\n      <th></th>\n      <th>x</th>\n      <th>y</th>\n      <th>z</th>\n    </tr>\n  </thead>\n  <tbody>\n    <tr>\n      <th>a</th>\n      <td>True</td>\n      <td>True</td>\n      <td>True</td>\n    </tr>\n    <tr>\n      <th>b</th>\n      <td>False</td>\n      <td>False</td>\n      <td>True</td>\n    </tr>\n    <tr>\n      <th>c</th>\n      <td>True</td>\n      <td>False</td>\n      <td>False</td>\n    </tr>\n    <tr>\n      <th>d</th>\n      <td>False</td>\n      <td>True</td>\n      <td>False</td>\n    </tr>\n    <tr>\n      <th>e</th>\n      <td>True</td>\n      <td>False</td>\n      <td>False</td>\n    </tr>\n  </tbody>\n</table>\n</div>"
     },
     "execution_count": 388,
     "metadata": {},
     "output_type": "execute_result"
    }
   ],
   "source": [
    "bool_df = df>0\n",
    "bool_df"
   ],
   "metadata": {
    "collapsed": false,
    "pycharm": {
     "name": "#%%\n"
    }
   }
  },
  {
   "cell_type": "code",
   "execution_count": 389,
   "outputs": [
    {
     "data": {
      "text/plain": "          x         y         z\na  0.719249  0.103965  0.026209\nb       NaN       NaN  0.386912\nc  0.453347       NaN       NaN\nd       NaN  0.637780       NaN\ne  1.740632       NaN       NaN",
      "text/html": "<div>\n<style scoped>\n    .dataframe tbody tr th:only-of-type {\n        vertical-align: middle;\n    }\n\n    .dataframe tbody tr th {\n        vertical-align: top;\n    }\n\n    .dataframe thead th {\n        text-align: right;\n    }\n</style>\n<table border=\"1\" class=\"dataframe\">\n  <thead>\n    <tr style=\"text-align: right;\">\n      <th></th>\n      <th>x</th>\n      <th>y</th>\n      <th>z</th>\n    </tr>\n  </thead>\n  <tbody>\n    <tr>\n      <th>a</th>\n      <td>0.719249</td>\n      <td>0.103965</td>\n      <td>0.026209</td>\n    </tr>\n    <tr>\n      <th>b</th>\n      <td>NaN</td>\n      <td>NaN</td>\n      <td>0.386912</td>\n    </tr>\n    <tr>\n      <th>c</th>\n      <td>0.453347</td>\n      <td>NaN</td>\n      <td>NaN</td>\n    </tr>\n    <tr>\n      <th>d</th>\n      <td>NaN</td>\n      <td>0.637780</td>\n      <td>NaN</td>\n    </tr>\n    <tr>\n      <th>e</th>\n      <td>1.740632</td>\n      <td>NaN</td>\n      <td>NaN</td>\n    </tr>\n  </tbody>\n</table>\n</div>"
     },
     "execution_count": 389,
     "metadata": {},
     "output_type": "execute_result"
    }
   ],
   "source": [
    "df[bool_df]"
   ],
   "metadata": {
    "collapsed": false,
    "pycharm": {
     "name": "#%%\n"
    }
   }
  },
  {
   "cell_type": "code",
   "execution_count": 390,
   "outputs": [
    {
     "data": {
      "text/plain": "a     True\nb    False\nc     True\nd    False\ne     True\nName: x, dtype: bool"
     },
     "execution_count": 390,
     "metadata": {},
     "output_type": "execute_result"
    }
   ],
   "source": [
    "bool_df_x = df.x > 0\n",
    "bool_df_x"
   ],
   "metadata": {
    "collapsed": false,
    "pycharm": {
     "name": "#%%\n"
    }
   }
  },
  {
   "cell_type": "code",
   "execution_count": 391,
   "outputs": [
    {
     "data": {
      "text/plain": "a    0.719249\nc    0.453347\ne    1.740632\nName: x, dtype: float64"
     },
     "execution_count": 391,
     "metadata": {},
     "output_type": "execute_result"
    }
   ],
   "source": [
    "df.x[bool_df_x]"
   ],
   "metadata": {
    "collapsed": false,
    "pycharm": {
     "name": "#%%\n"
    }
   }
  },
  {
   "cell_type": "code",
   "execution_count": 392,
   "outputs": [
    {
     "data": {
      "text/plain": "          x         y         z\na  0.719249  0.103965  0.026209\nc  0.453347 -0.587618 -0.545210\ne  1.740632 -0.597888 -0.029214",
      "text/html": "<div>\n<style scoped>\n    .dataframe tbody tr th:only-of-type {\n        vertical-align: middle;\n    }\n\n    .dataframe tbody tr th {\n        vertical-align: top;\n    }\n\n    .dataframe thead th {\n        text-align: right;\n    }\n</style>\n<table border=\"1\" class=\"dataframe\">\n  <thead>\n    <tr style=\"text-align: right;\">\n      <th></th>\n      <th>x</th>\n      <th>y</th>\n      <th>z</th>\n    </tr>\n  </thead>\n  <tbody>\n    <tr>\n      <th>a</th>\n      <td>0.719249</td>\n      <td>0.103965</td>\n      <td>0.026209</td>\n    </tr>\n    <tr>\n      <th>c</th>\n      <td>0.453347</td>\n      <td>-0.587618</td>\n      <td>-0.545210</td>\n    </tr>\n    <tr>\n      <th>e</th>\n      <td>1.740632</td>\n      <td>-0.597888</td>\n      <td>-0.029214</td>\n    </tr>\n  </tbody>\n</table>\n</div>"
     },
     "execution_count": 392,
     "metadata": {},
     "output_type": "execute_result"
    }
   ],
   "source": [
    "df[df.x>0]\n"
   ],
   "metadata": {
    "collapsed": false,
    "pycharm": {
     "name": "#%%\n"
    }
   }
  },
  {
   "cell_type": "code",
   "execution_count": 393,
   "outputs": [
    {
     "data": {
      "text/plain": "a    0.719249\nc    0.453347\ne    1.740632\nName: x, dtype: float64"
     },
     "execution_count": 393,
     "metadata": {},
     "output_type": "execute_result"
    }
   ],
   "source": [
    "# df[df.x>0]['x']\n",
    "# or\n",
    "df[df.x>0].x"
   ],
   "metadata": {
    "collapsed": false,
    "pycharm": {
     "name": "#%%\n"
    }
   }
  },
  {
   "cell_type": "code",
   "execution_count": 394,
   "outputs": [
    {
     "data": {
      "text/plain": "          x         z\na  0.719249  0.026209\nc  0.453347 -0.545210\ne  1.740632 -0.029214",
      "text/html": "<div>\n<style scoped>\n    .dataframe tbody tr th:only-of-type {\n        vertical-align: middle;\n    }\n\n    .dataframe tbody tr th {\n        vertical-align: top;\n    }\n\n    .dataframe thead th {\n        text-align: right;\n    }\n</style>\n<table border=\"1\" class=\"dataframe\">\n  <thead>\n    <tr style=\"text-align: right;\">\n      <th></th>\n      <th>x</th>\n      <th>z</th>\n    </tr>\n  </thead>\n  <tbody>\n    <tr>\n      <th>a</th>\n      <td>0.719249</td>\n      <td>0.026209</td>\n    </tr>\n    <tr>\n      <th>c</th>\n      <td>0.453347</td>\n      <td>-0.545210</td>\n    </tr>\n    <tr>\n      <th>e</th>\n      <td>1.740632</td>\n      <td>-0.029214</td>\n    </tr>\n  </tbody>\n</table>\n</div>"
     },
     "execution_count": 394,
     "metadata": {},
     "output_type": "execute_result"
    }
   ],
   "source": [
    "df[df.x>0][['x','z']]"
   ],
   "metadata": {
    "collapsed": false,
    "pycharm": {
     "name": "#%%\n"
    }
   }
  },
  {
   "cell_type": "code",
   "execution_count": 395,
   "outputs": [
    {
     "data": {
      "text/plain": "          x         y         z\na  0.719249  0.103965  0.026209\nc  0.453347 -0.587618 -0.545210\ne  1.740632 -0.597888 -0.029214",
      "text/html": "<div>\n<style scoped>\n    .dataframe tbody tr th:only-of-type {\n        vertical-align: middle;\n    }\n\n    .dataframe tbody tr th {\n        vertical-align: top;\n    }\n\n    .dataframe thead th {\n        text-align: right;\n    }\n</style>\n<table border=\"1\" class=\"dataframe\">\n  <thead>\n    <tr style=\"text-align: right;\">\n      <th></th>\n      <th>x</th>\n      <th>y</th>\n      <th>z</th>\n    </tr>\n  </thead>\n  <tbody>\n    <tr>\n      <th>a</th>\n      <td>0.719249</td>\n      <td>0.103965</td>\n      <td>0.026209</td>\n    </tr>\n    <tr>\n      <th>c</th>\n      <td>0.453347</td>\n      <td>-0.587618</td>\n      <td>-0.545210</td>\n    </tr>\n    <tr>\n      <th>e</th>\n      <td>1.740632</td>\n      <td>-0.597888</td>\n      <td>-0.029214</td>\n    </tr>\n  </tbody>\n</table>\n</div>"
     },
     "execution_count": 395,
     "metadata": {},
     "output_type": "execute_result"
    }
   ],
   "source": [
    "# df[(df.x>0) and (df.y>1)]  # ValueError: The truth value of a Series is ambiguous.\n",
    "\n",
    "df[(df.x>0) & (df.y<1)]"
   ],
   "metadata": {
    "collapsed": false,
    "pycharm": {
     "name": "#%%\n"
    }
   }
  },
  {
   "cell_type": "code",
   "execution_count": 396,
   "outputs": [
    {
     "data": {
      "text/plain": "          x         y         z\na  0.719249  0.103965  0.026209\nc  0.453347 -0.587618 -0.545210\ne  1.740632 -0.597888 -0.029214",
      "text/html": "<div>\n<style scoped>\n    .dataframe tbody tr th:only-of-type {\n        vertical-align: middle;\n    }\n\n    .dataframe tbody tr th {\n        vertical-align: top;\n    }\n\n    .dataframe thead th {\n        text-align: right;\n    }\n</style>\n<table border=\"1\" class=\"dataframe\">\n  <thead>\n    <tr style=\"text-align: right;\">\n      <th></th>\n      <th>x</th>\n      <th>y</th>\n      <th>z</th>\n    </tr>\n  </thead>\n  <tbody>\n    <tr>\n      <th>a</th>\n      <td>0.719249</td>\n      <td>0.103965</td>\n      <td>0.026209</td>\n    </tr>\n    <tr>\n      <th>c</th>\n      <td>0.453347</td>\n      <td>-0.587618</td>\n      <td>-0.545210</td>\n    </tr>\n    <tr>\n      <th>e</th>\n      <td>1.740632</td>\n      <td>-0.597888</td>\n      <td>-0.029214</td>\n    </tr>\n  </tbody>\n</table>\n</div>"
     },
     "execution_count": 396,
     "metadata": {},
     "output_type": "execute_result"
    }
   ],
   "source": [
    "# df[(df.x>0) or (df.y>1)]  # ValueError: The truth value of a Series is ambiguous.\n",
    "\n",
    "df[(df.x>0) | (df.y>1)]"
   ],
   "metadata": {
    "collapsed": false,
    "pycharm": {
     "name": "#%%\n"
    }
   }
  },
  {
   "cell_type": "code",
   "execution_count": 397,
   "outputs": [
    {
     "data": {
      "text/plain": "  index         x         y         z\n0     a  0.719249  0.103965  0.026209\n1     b -0.142629 -0.392469  0.386912\n2     c  0.453347 -0.587618 -0.545210\n3     d -0.073613  0.637780 -1.001164\n4     e  1.740632 -0.597888 -0.029214",
      "text/html": "<div>\n<style scoped>\n    .dataframe tbody tr th:only-of-type {\n        vertical-align: middle;\n    }\n\n    .dataframe tbody tr th {\n        vertical-align: top;\n    }\n\n    .dataframe thead th {\n        text-align: right;\n    }\n</style>\n<table border=\"1\" class=\"dataframe\">\n  <thead>\n    <tr style=\"text-align: right;\">\n      <th></th>\n      <th>index</th>\n      <th>x</th>\n      <th>y</th>\n      <th>z</th>\n    </tr>\n  </thead>\n  <tbody>\n    <tr>\n      <th>0</th>\n      <td>a</td>\n      <td>0.719249</td>\n      <td>0.103965</td>\n      <td>0.026209</td>\n    </tr>\n    <tr>\n      <th>1</th>\n      <td>b</td>\n      <td>-0.142629</td>\n      <td>-0.392469</td>\n      <td>0.386912</td>\n    </tr>\n    <tr>\n      <th>2</th>\n      <td>c</td>\n      <td>0.453347</td>\n      <td>-0.587618</td>\n      <td>-0.545210</td>\n    </tr>\n    <tr>\n      <th>3</th>\n      <td>d</td>\n      <td>-0.073613</td>\n      <td>0.637780</td>\n      <td>-1.001164</td>\n    </tr>\n    <tr>\n      <th>4</th>\n      <td>e</td>\n      <td>1.740632</td>\n      <td>-0.597888</td>\n      <td>-0.029214</td>\n    </tr>\n  </tbody>\n</table>\n</div>"
     },
     "execution_count": 397,
     "metadata": {},
     "output_type": "execute_result"
    }
   ],
   "source": [
    "df.reset_index()"
   ],
   "metadata": {
    "collapsed": false,
    "pycharm": {
     "name": "#%%\n"
    }
   }
  },
  {
   "cell_type": "code",
   "execution_count": 398,
   "outputs": [
    {
     "data": {
      "text/plain": "           x         y         z\naa  0.719249  0.103965  0.026209\nbb -0.142629 -0.392469  0.386912\ncc  0.453347 -0.587618 -0.545210\ndd -0.073613  0.637780 -1.001164\nee  1.740632 -0.597888 -0.029214",
      "text/html": "<div>\n<style scoped>\n    .dataframe tbody tr th:only-of-type {\n        vertical-align: middle;\n    }\n\n    .dataframe tbody tr th {\n        vertical-align: top;\n    }\n\n    .dataframe thead th {\n        text-align: right;\n    }\n</style>\n<table border=\"1\" class=\"dataframe\">\n  <thead>\n    <tr style=\"text-align: right;\">\n      <th></th>\n      <th>x</th>\n      <th>y</th>\n      <th>z</th>\n    </tr>\n  </thead>\n  <tbody>\n    <tr>\n      <th>aa</th>\n      <td>0.719249</td>\n      <td>0.103965</td>\n      <td>0.026209</td>\n    </tr>\n    <tr>\n      <th>bb</th>\n      <td>-0.142629</td>\n      <td>-0.392469</td>\n      <td>0.386912</td>\n    </tr>\n    <tr>\n      <th>cc</th>\n      <td>0.453347</td>\n      <td>-0.587618</td>\n      <td>-0.545210</td>\n    </tr>\n    <tr>\n      <th>dd</th>\n      <td>-0.073613</td>\n      <td>0.637780</td>\n      <td>-1.001164</td>\n    </tr>\n    <tr>\n      <th>ee</th>\n      <td>1.740632</td>\n      <td>-0.597888</td>\n      <td>-0.029214</td>\n    </tr>\n  </tbody>\n</table>\n</div>"
     },
     "execution_count": 398,
     "metadata": {},
     "output_type": "execute_result"
    }
   ],
   "source": [
    "ind = ['aa', 'bb','cc', 'dd','ee']\n",
    "\n",
    "df.index = ind\n",
    "df"
   ],
   "metadata": {
    "collapsed": false,
    "pycharm": {
     "name": "#%%\n"
    }
   }
  },
  {
   "cell_type": "code",
   "execution_count": 399,
   "outputs": [
    {
     "data": {
      "text/plain": "           x         y         z  States\naa  0.719249  0.103965  0.026209      10\nbb -0.142629 -0.392469  0.386912      20\ncc  0.453347 -0.587618 -0.545210      30\ndd -0.073613  0.637780 -1.001164      40\nee  1.740632 -0.597888 -0.029214      50",
      "text/html": "<div>\n<style scoped>\n    .dataframe tbody tr th:only-of-type {\n        vertical-align: middle;\n    }\n\n    .dataframe tbody tr th {\n        vertical-align: top;\n    }\n\n    .dataframe thead th {\n        text-align: right;\n    }\n</style>\n<table border=\"1\" class=\"dataframe\">\n  <thead>\n    <tr style=\"text-align: right;\">\n      <th></th>\n      <th>x</th>\n      <th>y</th>\n      <th>z</th>\n      <th>States</th>\n    </tr>\n  </thead>\n  <tbody>\n    <tr>\n      <th>aa</th>\n      <td>0.719249</td>\n      <td>0.103965</td>\n      <td>0.026209</td>\n      <td>10</td>\n    </tr>\n    <tr>\n      <th>bb</th>\n      <td>-0.142629</td>\n      <td>-0.392469</td>\n      <td>0.386912</td>\n      <td>20</td>\n    </tr>\n    <tr>\n      <th>cc</th>\n      <td>0.453347</td>\n      <td>-0.587618</td>\n      <td>-0.545210</td>\n      <td>30</td>\n    </tr>\n    <tr>\n      <th>dd</th>\n      <td>-0.073613</td>\n      <td>0.637780</td>\n      <td>-1.001164</td>\n      <td>40</td>\n    </tr>\n    <tr>\n      <th>ee</th>\n      <td>1.740632</td>\n      <td>-0.597888</td>\n      <td>-0.029214</td>\n      <td>50</td>\n    </tr>\n  </tbody>\n</table>\n</div>"
     },
     "execution_count": 399,
     "metadata": {},
     "output_type": "execute_result"
    }
   ],
   "source": [
    "state = [10,20,30,40,50]\n",
    "\n",
    "df['States'] = state\n",
    "df"
   ],
   "metadata": {
    "collapsed": false,
    "pycharm": {
     "name": "#%%\n"
    }
   }
  },
  {
   "cell_type": "code",
   "execution_count": 400,
   "outputs": [
    {
     "data": {
      "text/plain": "               x         y         z\nStates                              \n10      0.719249  0.103965  0.026209\n20     -0.142629 -0.392469  0.386912\n30      0.453347 -0.587618 -0.545210\n40     -0.073613  0.637780 -1.001164\n50      1.740632 -0.597888 -0.029214",
      "text/html": "<div>\n<style scoped>\n    .dataframe tbody tr th:only-of-type {\n        vertical-align: middle;\n    }\n\n    .dataframe tbody tr th {\n        vertical-align: top;\n    }\n\n    .dataframe thead th {\n        text-align: right;\n    }\n</style>\n<table border=\"1\" class=\"dataframe\">\n  <thead>\n    <tr style=\"text-align: right;\">\n      <th></th>\n      <th>x</th>\n      <th>y</th>\n      <th>z</th>\n    </tr>\n    <tr>\n      <th>States</th>\n      <th></th>\n      <th></th>\n      <th></th>\n    </tr>\n  </thead>\n  <tbody>\n    <tr>\n      <th>10</th>\n      <td>0.719249</td>\n      <td>0.103965</td>\n      <td>0.026209</td>\n    </tr>\n    <tr>\n      <th>20</th>\n      <td>-0.142629</td>\n      <td>-0.392469</td>\n      <td>0.386912</td>\n    </tr>\n    <tr>\n      <th>30</th>\n      <td>0.453347</td>\n      <td>-0.587618</td>\n      <td>-0.545210</td>\n    </tr>\n    <tr>\n      <th>40</th>\n      <td>-0.073613</td>\n      <td>0.637780</td>\n      <td>-1.001164</td>\n    </tr>\n    <tr>\n      <th>50</th>\n      <td>1.740632</td>\n      <td>-0.597888</td>\n      <td>-0.029214</td>\n    </tr>\n  </tbody>\n</table>\n</div>"
     },
     "execution_count": 400,
     "metadata": {},
     "output_type": "execute_result"
    }
   ],
   "source": [
    "df.set_index(\"States\")"
   ],
   "metadata": {
    "collapsed": false,
    "pycharm": {
     "name": "#%%\n"
    }
   }
  }
 ],
 "metadata": {
  "kernelspec": {
   "name": "pycharm-c1ded706",
   "language": "python",
   "display_name": "PyCharm (Mechine Learning with Python)"
  },
  "language_info": {
   "codemirror_mode": {
    "name": "ipython",
    "version": 2
   },
   "file_extension": ".py",
   "mimetype": "text/x-python",
   "name": "python",
   "nbconvert_exporter": "python",
   "pygments_lexer": "ipython2",
   "version": "2.7.6"
  }
 },
 "nbformat": 4,
 "nbformat_minor": 0
}