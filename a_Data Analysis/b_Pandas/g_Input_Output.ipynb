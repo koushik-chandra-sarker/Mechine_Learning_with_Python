{
 "cells": [
  {
   "cell_type": "markdown",
   "metadata": {
    "collapsed": true,
    "pycharm": {
     "name": "#%% md\n"
    }
   },
   "source": [
    "# Data input/Output\n",
    "- CSV\n",
    "- Execl\n",
    "- HTML\n",
    "- SQL\n",
    " etc.\n"
   ]
  },
  {
   "cell_type": "code",
   "execution_count": 39,
   "outputs": [
    {
     "data": {
      "text/plain": "   A0  B0\n0  A1  B1\n1  A2  B2\n2  A3  B3",
      "text/html": "<div>\n<style scoped>\n    .dataframe tbody tr th:only-of-type {\n        vertical-align: middle;\n    }\n\n    .dataframe tbody tr th {\n        vertical-align: top;\n    }\n\n    .dataframe thead th {\n        text-align: right;\n    }\n</style>\n<table border=\"1\" class=\"dataframe\">\n  <thead>\n    <tr style=\"text-align: right;\">\n      <th></th>\n      <th>A0</th>\n      <th>B0</th>\n    </tr>\n  </thead>\n  <tbody>\n    <tr>\n      <th>0</th>\n      <td>A1</td>\n      <td>B1</td>\n    </tr>\n    <tr>\n      <th>1</th>\n      <td>A2</td>\n      <td>B2</td>\n    </tr>\n    <tr>\n      <th>2</th>\n      <td>A3</td>\n      <td>B3</td>\n    </tr>\n  </tbody>\n</table>\n</div>"
     },
     "execution_count": 39,
     "metadata": {},
     "output_type": "execute_result"
    }
   ],
   "source": [
    "import pandas as pd\n",
    "\n",
    "pd.read_csv('input.csv')\n"
   ],
   "metadata": {
    "collapsed": false,
    "pycharm": {
     "name": "#%%\n"
    }
   }
  },
  {
   "cell_type": "code",
   "execution_count": 40,
   "outputs": [
    {
     "data": {
      "text/plain": "    A   B   C    D\n0  A0  B0  C0  154\n1  A1  B1  C1  254\n2  A1  B2  C2  451\n3  A1  B3  C3  556\n4  A4  B4  C4  124",
      "text/html": "<div>\n<style scoped>\n    .dataframe tbody tr th:only-of-type {\n        vertical-align: middle;\n    }\n\n    .dataframe tbody tr th {\n        vertical-align: top;\n    }\n\n    .dataframe thead th {\n        text-align: right;\n    }\n</style>\n<table border=\"1\" class=\"dataframe\">\n  <thead>\n    <tr style=\"text-align: right;\">\n      <th></th>\n      <th>A</th>\n      <th>B</th>\n      <th>C</th>\n      <th>D</th>\n    </tr>\n  </thead>\n  <tbody>\n    <tr>\n      <th>0</th>\n      <td>A0</td>\n      <td>B0</td>\n      <td>C0</td>\n      <td>154</td>\n    </tr>\n    <tr>\n      <th>1</th>\n      <td>A1</td>\n      <td>B1</td>\n      <td>C1</td>\n      <td>254</td>\n    </tr>\n    <tr>\n      <th>2</th>\n      <td>A1</td>\n      <td>B2</td>\n      <td>C2</td>\n      <td>451</td>\n    </tr>\n    <tr>\n      <th>3</th>\n      <td>A1</td>\n      <td>B3</td>\n      <td>C3</td>\n      <td>556</td>\n    </tr>\n    <tr>\n      <th>4</th>\n      <td>A4</td>\n      <td>B4</td>\n      <td>C4</td>\n      <td>124</td>\n    </tr>\n  </tbody>\n</table>\n</div>"
     },
     "execution_count": 40,
     "metadata": {},
     "output_type": "execute_result"
    }
   ],
   "source": [
    "data_frame = pd.DataFrame({\n",
    "    'A': [\"A0\", \"A1\", \"A1\", \"A1\", \"A4\"],\n",
    "    'B': [\"B0\", \"B1\", \"B2\", \"B3\", \"B4\"],\n",
    "    'C': [\"C0\", \"C1\", \"C2\", \"C3\", \"C4\"],\n",
    "    'D': [\"154\", \"254\", \"451\", \"556\", \"124\"]\n",
    "}, index=[0,1,2,3,4])\n",
    "data_frame"
   ],
   "metadata": {
    "collapsed": false,
    "pycharm": {
     "name": "#%%\n"
    }
   }
  },
  {
   "cell_type": "code",
   "execution_count": 41,
   "outputs": [],
   "source": [
    "data_frame.to_csv(\"output.csv\", index=False)"
   ],
   "metadata": {
    "collapsed": false,
    "pycharm": {
     "name": "#%%\n"
    }
   }
  },
  {
   "cell_type": "code",
   "execution_count": 42,
   "outputs": [
    {
     "data": {
      "text/plain": "    A   B   C    D\n0  A0  B0  C0  154\n1  A1  B1  C1  254\n2  A1  B2  C2  451\n3  A1  B3  C3  556\n4  A4  B4  C4  124",
      "text/html": "<div>\n<style scoped>\n    .dataframe tbody tr th:only-of-type {\n        vertical-align: middle;\n    }\n\n    .dataframe tbody tr th {\n        vertical-align: top;\n    }\n\n    .dataframe thead th {\n        text-align: right;\n    }\n</style>\n<table border=\"1\" class=\"dataframe\">\n  <thead>\n    <tr style=\"text-align: right;\">\n      <th></th>\n      <th>A</th>\n      <th>B</th>\n      <th>C</th>\n      <th>D</th>\n    </tr>\n  </thead>\n  <tbody>\n    <tr>\n      <th>0</th>\n      <td>A0</td>\n      <td>B0</td>\n      <td>C0</td>\n      <td>154</td>\n    </tr>\n    <tr>\n      <th>1</th>\n      <td>A1</td>\n      <td>B1</td>\n      <td>C1</td>\n      <td>254</td>\n    </tr>\n    <tr>\n      <th>2</th>\n      <td>A1</td>\n      <td>B2</td>\n      <td>C2</td>\n      <td>451</td>\n    </tr>\n    <tr>\n      <th>3</th>\n      <td>A1</td>\n      <td>B3</td>\n      <td>C3</td>\n      <td>556</td>\n    </tr>\n    <tr>\n      <th>4</th>\n      <td>A4</td>\n      <td>B4</td>\n      <td>C4</td>\n      <td>124</td>\n    </tr>\n  </tbody>\n</table>\n</div>"
     },
     "execution_count": 42,
     "metadata": {},
     "output_type": "execute_result"
    }
   ],
   "source": [
    "pd.read_csv(\"output.csv\")\\\n"
   ],
   "metadata": {
    "collapsed": false,
    "pycharm": {
     "name": "#%%\n"
    }
   }
  },
  {
   "cell_type": "code",
   "execution_count": 43,
   "outputs": [
    {
     "data": {
      "text/plain": "      SL                                         University  \\\n0    1.0                                University of Dhaka   \n1    2.0                             University of Rajshahi   \n2    3.0                 Bangladesh Agricultural University   \n3    4.0  Bangladesh University of Engineering & Technology   \n4    5.0                           University of Chittagong   \n5    6.0                           Jahangirnagar University   \n6    7.0                                 Islamic University   \n7    8.0       Shahjalal University of Science & Technology   \n8    9.0                                  Khulna University   \n9   10.0                                National University   \n10  11.0                         Bangladesh Open University   \n11  12.0        Bangabandhu Sheikh Mujib Medical University   \n12  13.0  Bangabandhu Sheikh Mujibur Rahman Agricultural...   \n13  14.0  Hajee Mohammad Danesh Science & Technology Uni...   \n14  15.0   Mawlana Bhashani Science & Technology University   \n15  16.0       Patuakhali Science And Technology University   \n16  17.0              Sher-e-Bangla Agricultural University   \n17  18.0  Chittagong University of Engineering & Technology   \n18  19.0    Rajshahi University of Engineering & Technology   \n19  20.0    Khulna University of Engineering and Technology   \n20  21.0       Dhaka University of Engineering & Technology   \n21  22.0           Noakhali Science & Technology University   \n22  23.0                               Jagannath University   \n23  24.0                                 Comilla University   \n24  25.0           Jatiya Kabi Kazi Nazrul Islam University   \n25  26.0  Chittagong Veterinary and Animal Sciences Univ...   \n26  27.0                     Sylhet Agricultural University   \n27  28.0         Jessore University of Science & Technology   \n28  29.0         Pabna University of Science and Technology   \n29  30.0                   Begum Rokeya University, Rangpur   \n30  31.0             Bangladesh University of Professionals   \n31  32.0  Bangabandhu Sheikh Mujibur Rahman Science & Te...   \n32  33.0                  Bangladesh University of Textiles   \n33  34.0                              University of Barisal   \n34  35.0        Rangamati Science and Technology University   \n35  36.0  Bangabandhu Sheikh Mujibur Rahman Maritime Uni...   \n36  37.0                          Islamic Arabic University   \n37  38.0                      Chittagong Medical University   \n38  39.0                        Rajshahi Medical University   \n39  40.0                    Rabindra University, Bangladesh   \n40  41.0  Bangabandhu Sheikh Mujibur Rahman Digital Univ...   \n41  42.0                           Sheikh Hasina University   \n42  43.0                     Khulna Agricultural University   \n43  44.0  Bangamata Sheikh Fojilatunnesa Mujib Science a...   \n44  45.0                          Sylhet Medical University   \n45  46.0  Bangabandhu Sheikh Mujibur Rahman Aviation And...   \n46  47.0         Chandpur Science and Technology University   \n47  48.0  Bangabandhu Sheikh Mujibur Rahman Univerisity,...   \n48  49.0                   Hobiganj Agricultural University   \n\n                   Website  \n0             www.du.ac.bd  \n1             www.ru.ac.bd  \n2           www.bau.edu.bd  \n3           www.buet.ac.bd  \n4             www.cu.ac.bd  \n5            www.juniv.edu  \n6             www.iu.ac.bd  \n7             www.sust.edu  \n8             www.ku.ac.bd  \n9            www.nu.edu.bd  \n10          www.bou.edu.bd  \n11        www.bsmmu.edu.bd  \n12       www.bsmrau.edu.bd  \n13          www.hstu.ac.bd  \n14         www.mbstu.ac.bd  \n15          www.pstu.ac.bd  \n16          www.sau.edu.bd  \n17          www.cuet.ac.bd  \n18          www.ruet.ac.bd  \n19          www.kuet.ac.bd  \n20          www.duet.ac.bd  \n21         www.nstu.edu.bd  \n22           www.jnu.ac.bd  \n23           www.cou.ac.bd  \n24       www.jkkniu.edu.bd  \n25         www.cvasu.ac.bd  \n26           www.sau.ac.bd  \n27         www.just.edu.bd  \n28          www.pust.ac.bd  \n29          www.brur.ac.bd  \n30          www.bup.edu.bd  \n31      www.bsmrstu.edu.bd  \n32        www.butex.edu.bd  \n33  www.barisaluniv.edu.bd  \n34        www.rmstu.edu.bd  \n35       www.bsmrmu.edu.bd  \n36          www.iau.edu.bd  \n37                     NaN  \n38          www.rmu.edu.bd  \n39            www.rubd.org  \n40           www.bdu.ac.bd  \n41      https://shubd.net/  \n42                     NaN  \n43  https://bsfmstu.ac.bd/  \n44                     NaN  \n45      www.bsmraau.edu.bd  \n46                       .  \n47                       .  \n48                       .  ",
      "text/html": "<div>\n<style scoped>\n    .dataframe tbody tr th:only-of-type {\n        vertical-align: middle;\n    }\n\n    .dataframe tbody tr th {\n        vertical-align: top;\n    }\n\n    .dataframe thead th {\n        text-align: right;\n    }\n</style>\n<table border=\"1\" class=\"dataframe\">\n  <thead>\n    <tr style=\"text-align: right;\">\n      <th></th>\n      <th>SL</th>\n      <th>University</th>\n      <th>Website</th>\n    </tr>\n  </thead>\n  <tbody>\n    <tr>\n      <th>0</th>\n      <td>1.0</td>\n      <td>University of Dhaka</td>\n      <td>www.du.ac.bd</td>\n    </tr>\n    <tr>\n      <th>1</th>\n      <td>2.0</td>\n      <td>University of Rajshahi</td>\n      <td>www.ru.ac.bd</td>\n    </tr>\n    <tr>\n      <th>2</th>\n      <td>3.0</td>\n      <td>Bangladesh Agricultural University</td>\n      <td>www.bau.edu.bd</td>\n    </tr>\n    <tr>\n      <th>3</th>\n      <td>4.0</td>\n      <td>Bangladesh University of Engineering &amp; Technology</td>\n      <td>www.buet.ac.bd</td>\n    </tr>\n    <tr>\n      <th>4</th>\n      <td>5.0</td>\n      <td>University of Chittagong</td>\n      <td>www.cu.ac.bd</td>\n    </tr>\n    <tr>\n      <th>5</th>\n      <td>6.0</td>\n      <td>Jahangirnagar University</td>\n      <td>www.juniv.edu</td>\n    </tr>\n    <tr>\n      <th>6</th>\n      <td>7.0</td>\n      <td>Islamic University</td>\n      <td>www.iu.ac.bd</td>\n    </tr>\n    <tr>\n      <th>7</th>\n      <td>8.0</td>\n      <td>Shahjalal University of Science &amp; Technology</td>\n      <td>www.sust.edu</td>\n    </tr>\n    <tr>\n      <th>8</th>\n      <td>9.0</td>\n      <td>Khulna University</td>\n      <td>www.ku.ac.bd</td>\n    </tr>\n    <tr>\n      <th>9</th>\n      <td>10.0</td>\n      <td>National University</td>\n      <td>www.nu.edu.bd</td>\n    </tr>\n    <tr>\n      <th>10</th>\n      <td>11.0</td>\n      <td>Bangladesh Open University</td>\n      <td>www.bou.edu.bd</td>\n    </tr>\n    <tr>\n      <th>11</th>\n      <td>12.0</td>\n      <td>Bangabandhu Sheikh Mujib Medical University</td>\n      <td>www.bsmmu.edu.bd</td>\n    </tr>\n    <tr>\n      <th>12</th>\n      <td>13.0</td>\n      <td>Bangabandhu Sheikh Mujibur Rahman Agricultural...</td>\n      <td>www.bsmrau.edu.bd</td>\n    </tr>\n    <tr>\n      <th>13</th>\n      <td>14.0</td>\n      <td>Hajee Mohammad Danesh Science &amp; Technology Uni...</td>\n      <td>www.hstu.ac.bd</td>\n    </tr>\n    <tr>\n      <th>14</th>\n      <td>15.0</td>\n      <td>Mawlana Bhashani Science &amp; Technology University</td>\n      <td>www.mbstu.ac.bd</td>\n    </tr>\n    <tr>\n      <th>15</th>\n      <td>16.0</td>\n      <td>Patuakhali Science And Technology University</td>\n      <td>www.pstu.ac.bd</td>\n    </tr>\n    <tr>\n      <th>16</th>\n      <td>17.0</td>\n      <td>Sher-e-Bangla Agricultural University</td>\n      <td>www.sau.edu.bd</td>\n    </tr>\n    <tr>\n      <th>17</th>\n      <td>18.0</td>\n      <td>Chittagong University of Engineering &amp; Technology</td>\n      <td>www.cuet.ac.bd</td>\n    </tr>\n    <tr>\n      <th>18</th>\n      <td>19.0</td>\n      <td>Rajshahi University of Engineering &amp; Technology</td>\n      <td>www.ruet.ac.bd</td>\n    </tr>\n    <tr>\n      <th>19</th>\n      <td>20.0</td>\n      <td>Khulna University of Engineering and Technology</td>\n      <td>www.kuet.ac.bd</td>\n    </tr>\n    <tr>\n      <th>20</th>\n      <td>21.0</td>\n      <td>Dhaka University of Engineering &amp; Technology</td>\n      <td>www.duet.ac.bd</td>\n    </tr>\n    <tr>\n      <th>21</th>\n      <td>22.0</td>\n      <td>Noakhali Science &amp; Technology University</td>\n      <td>www.nstu.edu.bd</td>\n    </tr>\n    <tr>\n      <th>22</th>\n      <td>23.0</td>\n      <td>Jagannath University</td>\n      <td>www.jnu.ac.bd</td>\n    </tr>\n    <tr>\n      <th>23</th>\n      <td>24.0</td>\n      <td>Comilla University</td>\n      <td>www.cou.ac.bd</td>\n    </tr>\n    <tr>\n      <th>24</th>\n      <td>25.0</td>\n      <td>Jatiya Kabi Kazi Nazrul Islam University</td>\n      <td>www.jkkniu.edu.bd</td>\n    </tr>\n    <tr>\n      <th>25</th>\n      <td>26.0</td>\n      <td>Chittagong Veterinary and Animal Sciences Univ...</td>\n      <td>www.cvasu.ac.bd</td>\n    </tr>\n    <tr>\n      <th>26</th>\n      <td>27.0</td>\n      <td>Sylhet Agricultural University</td>\n      <td>www.sau.ac.bd</td>\n    </tr>\n    <tr>\n      <th>27</th>\n      <td>28.0</td>\n      <td>Jessore University of Science &amp; Technology</td>\n      <td>www.just.edu.bd</td>\n    </tr>\n    <tr>\n      <th>28</th>\n      <td>29.0</td>\n      <td>Pabna University of Science and Technology</td>\n      <td>www.pust.ac.bd</td>\n    </tr>\n    <tr>\n      <th>29</th>\n      <td>30.0</td>\n      <td>Begum Rokeya University, Rangpur</td>\n      <td>www.brur.ac.bd</td>\n    </tr>\n    <tr>\n      <th>30</th>\n      <td>31.0</td>\n      <td>Bangladesh University of Professionals</td>\n      <td>www.bup.edu.bd</td>\n    </tr>\n    <tr>\n      <th>31</th>\n      <td>32.0</td>\n      <td>Bangabandhu Sheikh Mujibur Rahman Science &amp; Te...</td>\n      <td>www.bsmrstu.edu.bd</td>\n    </tr>\n    <tr>\n      <th>32</th>\n      <td>33.0</td>\n      <td>Bangladesh University of Textiles</td>\n      <td>www.butex.edu.bd</td>\n    </tr>\n    <tr>\n      <th>33</th>\n      <td>34.0</td>\n      <td>University of Barisal</td>\n      <td>www.barisaluniv.edu.bd</td>\n    </tr>\n    <tr>\n      <th>34</th>\n      <td>35.0</td>\n      <td>Rangamati Science and Technology University</td>\n      <td>www.rmstu.edu.bd</td>\n    </tr>\n    <tr>\n      <th>35</th>\n      <td>36.0</td>\n      <td>Bangabandhu Sheikh Mujibur Rahman Maritime Uni...</td>\n      <td>www.bsmrmu.edu.bd</td>\n    </tr>\n    <tr>\n      <th>36</th>\n      <td>37.0</td>\n      <td>Islamic Arabic University</td>\n      <td>www.iau.edu.bd</td>\n    </tr>\n    <tr>\n      <th>37</th>\n      <td>38.0</td>\n      <td>Chittagong Medical University</td>\n      <td>NaN</td>\n    </tr>\n    <tr>\n      <th>38</th>\n      <td>39.0</td>\n      <td>Rajshahi Medical University</td>\n      <td>www.rmu.edu.bd</td>\n    </tr>\n    <tr>\n      <th>39</th>\n      <td>40.0</td>\n      <td>Rabindra University, Bangladesh</td>\n      <td>www.rubd.org</td>\n    </tr>\n    <tr>\n      <th>40</th>\n      <td>41.0</td>\n      <td>Bangabandhu Sheikh Mujibur Rahman Digital Univ...</td>\n      <td>www.bdu.ac.bd</td>\n    </tr>\n    <tr>\n      <th>41</th>\n      <td>42.0</td>\n      <td>Sheikh Hasina University</td>\n      <td>https://shubd.net/</td>\n    </tr>\n    <tr>\n      <th>42</th>\n      <td>43.0</td>\n      <td>Khulna Agricultural University</td>\n      <td>NaN</td>\n    </tr>\n    <tr>\n      <th>43</th>\n      <td>44.0</td>\n      <td>Bangamata Sheikh Fojilatunnesa Mujib Science a...</td>\n      <td>https://bsfmstu.ac.bd/</td>\n    </tr>\n    <tr>\n      <th>44</th>\n      <td>45.0</td>\n      <td>Sylhet Medical University</td>\n      <td>NaN</td>\n    </tr>\n    <tr>\n      <th>45</th>\n      <td>46.0</td>\n      <td>Bangabandhu Sheikh Mujibur Rahman Aviation And...</td>\n      <td>www.bsmraau.edu.bd</td>\n    </tr>\n    <tr>\n      <th>46</th>\n      <td>47.0</td>\n      <td>Chandpur Science and Technology University</td>\n      <td>.</td>\n    </tr>\n    <tr>\n      <th>47</th>\n      <td>48.0</td>\n      <td>Bangabandhu Sheikh Mujibur Rahman Univerisity,...</td>\n      <td>.</td>\n    </tr>\n    <tr>\n      <th>48</th>\n      <td>49.0</td>\n      <td>Hobiganj Agricultural University</td>\n      <td>.</td>\n    </tr>\n  </tbody>\n</table>\n</div>"
     },
     "execution_count": 43,
     "metadata": {},
     "output_type": "execute_result"
    }
   ],
   "source": [
    "uv_data = pd.read_html(\"http://www.ugc-universities.gov.bd/\")\n",
    "\n",
    "uv_data[0]\n"
   ],
   "metadata": {
    "collapsed": false,
    "pycharm": {
     "name": "#%%\n"
    }
   }
  },
  {
   "cell_type": "markdown",
   "source": [
    " ## Create Sqlite engine"
   ],
   "metadata": {
    "collapsed": false,
    "pycharm": {
     "name": "#%% md\n"
    }
   }
  },
  {
   "cell_type": "code",
   "source": [
    "from sqlalchemy import create_engine\n",
    "\n",
    "sql_engine = create_engine('sqlite:///:memory:')\n",
    "data_frame.to_sql('data_table', sql_engine)"
   ],
   "metadata": {
    "collapsed": false,
    "pycharm": {
     "name": "#%%\n"
    }
   },
   "execution_count": 44,
   "outputs": []
  },
  {
   "cell_type": "code",
   "execution_count": 45,
   "outputs": [
    {
     "data": {
      "text/plain": "   index   A   B   C    D\n0      0  A0  B0  C0  154\n1      1  A1  B1  C1  254\n2      2  A1  B2  C2  451\n3      3  A1  B3  C3  556\n4      4  A4  B4  C4  124",
      "text/html": "<div>\n<style scoped>\n    .dataframe tbody tr th:only-of-type {\n        vertical-align: middle;\n    }\n\n    .dataframe tbody tr th {\n        vertical-align: top;\n    }\n\n    .dataframe thead th {\n        text-align: right;\n    }\n</style>\n<table border=\"1\" class=\"dataframe\">\n  <thead>\n    <tr style=\"text-align: right;\">\n      <th></th>\n      <th>index</th>\n      <th>A</th>\n      <th>B</th>\n      <th>C</th>\n      <th>D</th>\n    </tr>\n  </thead>\n  <tbody>\n    <tr>\n      <th>0</th>\n      <td>0</td>\n      <td>A0</td>\n      <td>B0</td>\n      <td>C0</td>\n      <td>154</td>\n    </tr>\n    <tr>\n      <th>1</th>\n      <td>1</td>\n      <td>A1</td>\n      <td>B1</td>\n      <td>C1</td>\n      <td>254</td>\n    </tr>\n    <tr>\n      <th>2</th>\n      <td>2</td>\n      <td>A1</td>\n      <td>B2</td>\n      <td>C2</td>\n      <td>451</td>\n    </tr>\n    <tr>\n      <th>3</th>\n      <td>3</td>\n      <td>A1</td>\n      <td>B3</td>\n      <td>C3</td>\n      <td>556</td>\n    </tr>\n    <tr>\n      <th>4</th>\n      <td>4</td>\n      <td>A4</td>\n      <td>B4</td>\n      <td>C4</td>\n      <td>124</td>\n    </tr>\n  </tbody>\n</table>\n</div>"
     },
     "execution_count": 45,
     "metadata": {},
     "output_type": "execute_result"
    }
   ],
   "source": [
    "pd.read_sql('data_table',sql_engine)"
   ],
   "metadata": {
    "collapsed": false,
    "pycharm": {
     "name": "#%%\n"
    }
   }
  },
  {
   "cell_type": "markdown",
   "source": [
    "# Further info: https://pandas.pydata.org/pandas-docs/stable/reference/io.html"
   ],
   "metadata": {
    "collapsed": false,
    "pycharm": {
     "name": "#%% md\n"
    }
   }
  }
 ],
 "metadata": {
  "kernelspec": {
   "name": "pycharm-c1ded706",
   "language": "python",
   "display_name": "PyCharm (Mechine Learning with Python)"
  },
  "language_info": {
   "codemirror_mode": {
    "name": "ipython",
    "version": 2
   },
   "file_extension": ".py",
   "mimetype": "text/x-python",
   "name": "python",
   "nbconvert_exporter": "python",
   "pygments_lexer": "ipython2",
   "version": "2.7.6"
  }
 },
 "nbformat": 4,
 "nbformat_minor": 0
}