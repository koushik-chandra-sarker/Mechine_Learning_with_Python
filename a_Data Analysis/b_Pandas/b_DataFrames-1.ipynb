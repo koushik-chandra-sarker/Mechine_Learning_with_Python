{
 "cells": [
  {
   "cell_type": "code",
   "execution_count": 90,
   "metadata": {
    "collapsed": true,
    "pycharm": {
     "name": "#%%\n"
    }
   },
   "outputs": [
    {
     "data": {
      "text/plain": "          x         y         z\nA -0.302253 -1.343182  0.710126\nB  0.185566  1.620733 -0.344539\nC -0.772104 -0.422080 -1.551067\nD -0.428411  0.035686 -0.705323\nE  0.174357  0.422306  0.376421",
      "text/html": "<div>\n<style scoped>\n    .dataframe tbody tr th:only-of-type {\n        vertical-align: middle;\n    }\n\n    .dataframe tbody tr th {\n        vertical-align: top;\n    }\n\n    .dataframe thead th {\n        text-align: right;\n    }\n</style>\n<table border=\"1\" class=\"dataframe\">\n  <thead>\n    <tr style=\"text-align: right;\">\n      <th></th>\n      <th>x</th>\n      <th>y</th>\n      <th>z</th>\n    </tr>\n  </thead>\n  <tbody>\n    <tr>\n      <th>A</th>\n      <td>-0.302253</td>\n      <td>-1.343182</td>\n      <td>0.710126</td>\n    </tr>\n    <tr>\n      <th>B</th>\n      <td>0.185566</td>\n      <td>1.620733</td>\n      <td>-0.344539</td>\n    </tr>\n    <tr>\n      <th>C</th>\n      <td>-0.772104</td>\n      <td>-0.422080</td>\n      <td>-1.551067</td>\n    </tr>\n    <tr>\n      <th>D</th>\n      <td>-0.428411</td>\n      <td>0.035686</td>\n      <td>-0.705323</td>\n    </tr>\n    <tr>\n      <th>E</th>\n      <td>0.174357</td>\n      <td>0.422306</td>\n      <td>0.376421</td>\n    </tr>\n  </tbody>\n</table>\n</div>"
     },
     "execution_count": 90,
     "metadata": {},
     "output_type": "execute_result"
    }
   ],
   "source": [
    "import pandas as pd\n",
    "from numpy.random import randn\n",
    "\n",
    "\n",
    "\"\"\"\n",
    "DataFrame used for\n",
    "Two-dimensional, size-mutable, potentially heterogeneous tabular data.\n",
    "\"\"\"\n",
    "df=pd.DataFrame(randn(5,3),['A','B','C','D','E'],['x','y','z'])\n",
    "df"
   ]
  },
  {
   "cell_type": "code",
   "execution_count": 91,
   "outputs": [
    {
     "data": {
      "text/plain": "A   -1.343182\nB    1.620733\nC   -0.422080\nD    0.035686\nE    0.422306\nName: y, dtype: float64"
     },
     "execution_count": 91,
     "metadata": {},
     "output_type": "execute_result"
    }
   ],
   "source": [
    "# Get Column\n",
    "df['y']"
   ],
   "metadata": {
    "collapsed": false,
    "pycharm": {
     "name": "#%%\n"
    }
   }
  },
  {
   "cell_type": "code",
   "execution_count": 92,
   "outputs": [
    {
     "data": {
      "text/plain": "A   -0.302253\nB    0.185566\nC   -0.772104\nD   -0.428411\nE    0.174357\nName: x, dtype: float64"
     },
     "execution_count": 92,
     "metadata": {},
     "output_type": "execute_result"
    }
   ],
   "source": [
    "# Another way to get Column\n",
    "df.x"
   ],
   "metadata": {
    "collapsed": false,
    "pycharm": {
     "name": "#%%\n"
    }
   }
  },
  {
   "cell_type": "code",
   "execution_count": 93,
   "outputs": [
    {
     "data": {
      "text/plain": "pandas.core.frame.DataFrame"
     },
     "execution_count": 93,
     "metadata": {},
     "output_type": "execute_result"
    }
   ],
   "source": [
    "type(df)"
   ],
   "metadata": {
    "collapsed": false,
    "pycharm": {
     "name": "#%%\n"
    }
   }
  },
  {
   "cell_type": "code",
   "execution_count": 94,
   "outputs": [
    {
     "data": {
      "text/plain": "          x         y\nA -0.302253 -1.343182\nB  0.185566  1.620733\nC -0.772104 -0.422080\nD -0.428411  0.035686\nE  0.174357  0.422306",
      "text/html": "<div>\n<style scoped>\n    .dataframe tbody tr th:only-of-type {\n        vertical-align: middle;\n    }\n\n    .dataframe tbody tr th {\n        vertical-align: top;\n    }\n\n    .dataframe thead th {\n        text-align: right;\n    }\n</style>\n<table border=\"1\" class=\"dataframe\">\n  <thead>\n    <tr style=\"text-align: right;\">\n      <th></th>\n      <th>x</th>\n      <th>y</th>\n    </tr>\n  </thead>\n  <tbody>\n    <tr>\n      <th>A</th>\n      <td>-0.302253</td>\n      <td>-1.343182</td>\n    </tr>\n    <tr>\n      <th>B</th>\n      <td>0.185566</td>\n      <td>1.620733</td>\n    </tr>\n    <tr>\n      <th>C</th>\n      <td>-0.772104</td>\n      <td>-0.422080</td>\n    </tr>\n    <tr>\n      <th>D</th>\n      <td>-0.428411</td>\n      <td>0.035686</td>\n    </tr>\n    <tr>\n      <th>E</th>\n      <td>0.174357</td>\n      <td>0.422306</td>\n    </tr>\n  </tbody>\n</table>\n</div>"
     },
     "execution_count": 94,
     "metadata": {},
     "output_type": "execute_result"
    }
   ],
   "source": [
    "df[['x','y']]"
   ],
   "metadata": {
    "collapsed": false,
    "pycharm": {
     "name": "#%%\n"
    }
   }
  },
  {
   "cell_type": "code",
   "execution_count": 95,
   "outputs": [
    {
     "data": {
      "text/plain": "          x         y         z       new\nA -0.302253 -1.343182  0.710126 -1.645435\nB  0.185566  1.620733 -0.344539  1.806298\nC -0.772104 -0.422080 -1.551067 -1.194184\nD -0.428411  0.035686 -0.705323 -0.392725\nE  0.174357  0.422306  0.376421  0.596663",
      "text/html": "<div>\n<style scoped>\n    .dataframe tbody tr th:only-of-type {\n        vertical-align: middle;\n    }\n\n    .dataframe tbody tr th {\n        vertical-align: top;\n    }\n\n    .dataframe thead th {\n        text-align: right;\n    }\n</style>\n<table border=\"1\" class=\"dataframe\">\n  <thead>\n    <tr style=\"text-align: right;\">\n      <th></th>\n      <th>x</th>\n      <th>y</th>\n      <th>z</th>\n      <th>new</th>\n    </tr>\n  </thead>\n  <tbody>\n    <tr>\n      <th>A</th>\n      <td>-0.302253</td>\n      <td>-1.343182</td>\n      <td>0.710126</td>\n      <td>-1.645435</td>\n    </tr>\n    <tr>\n      <th>B</th>\n      <td>0.185566</td>\n      <td>1.620733</td>\n      <td>-0.344539</td>\n      <td>1.806298</td>\n    </tr>\n    <tr>\n      <th>C</th>\n      <td>-0.772104</td>\n      <td>-0.422080</td>\n      <td>-1.551067</td>\n      <td>-1.194184</td>\n    </tr>\n    <tr>\n      <th>D</th>\n      <td>-0.428411</td>\n      <td>0.035686</td>\n      <td>-0.705323</td>\n      <td>-0.392725</td>\n    </tr>\n    <tr>\n      <th>E</th>\n      <td>0.174357</td>\n      <td>0.422306</td>\n      <td>0.376421</td>\n      <td>0.596663</td>\n    </tr>\n  </tbody>\n</table>\n</div>"
     },
     "execution_count": 95,
     "metadata": {},
     "output_type": "execute_result"
    }
   ],
   "source": [
    "# Add new column\n",
    "df['new'] = df.x + df.y\n",
    "\n",
    "df"
   ],
   "metadata": {
    "collapsed": false,
    "pycharm": {
     "name": "#%%\n"
    }
   }
  },
  {
   "cell_type": "code",
   "execution_count": 96,
   "outputs": [
    {
     "data": {
      "text/plain": "          x         y         z\nA -0.302253 -1.343182  0.710126\nB  0.185566  1.620733 -0.344539\nC -0.772104 -0.422080 -1.551067\nD -0.428411  0.035686 -0.705323\nE  0.174357  0.422306  0.376421",
      "text/html": "<div>\n<style scoped>\n    .dataframe tbody tr th:only-of-type {\n        vertical-align: middle;\n    }\n\n    .dataframe tbody tr th {\n        vertical-align: top;\n    }\n\n    .dataframe thead th {\n        text-align: right;\n    }\n</style>\n<table border=\"1\" class=\"dataframe\">\n  <thead>\n    <tr style=\"text-align: right;\">\n      <th></th>\n      <th>x</th>\n      <th>y</th>\n      <th>z</th>\n    </tr>\n  </thead>\n  <tbody>\n    <tr>\n      <th>A</th>\n      <td>-0.302253</td>\n      <td>-1.343182</td>\n      <td>0.710126</td>\n    </tr>\n    <tr>\n      <th>B</th>\n      <td>0.185566</td>\n      <td>1.620733</td>\n      <td>-0.344539</td>\n    </tr>\n    <tr>\n      <th>C</th>\n      <td>-0.772104</td>\n      <td>-0.422080</td>\n      <td>-1.551067</td>\n    </tr>\n    <tr>\n      <th>D</th>\n      <td>-0.428411</td>\n      <td>0.035686</td>\n      <td>-0.705323</td>\n    </tr>\n    <tr>\n      <th>E</th>\n      <td>0.174357</td>\n      <td>0.422306</td>\n      <td>0.376421</td>\n    </tr>\n  </tbody>\n</table>\n</div>"
     },
     "execution_count": 96,
     "metadata": {},
     "output_type": "execute_result"
    }
   ],
   "source": [
    "# Remove Column but not replace\n",
    "df.drop('new',axis=1)"
   ],
   "metadata": {
    "collapsed": false,
    "pycharm": {
     "name": "#%%\n"
    }
   }
  },
  {
   "cell_type": "code",
   "execution_count": 97,
   "outputs": [
    {
     "data": {
      "text/plain": "          x         y         z       new\nA -0.302253 -1.343182  0.710126 -1.645435\nB  0.185566  1.620733 -0.344539  1.806298\nC -0.772104 -0.422080 -1.551067 -1.194184\nD -0.428411  0.035686 -0.705323 -0.392725\nE  0.174357  0.422306  0.376421  0.596663",
      "text/html": "<div>\n<style scoped>\n    .dataframe tbody tr th:only-of-type {\n        vertical-align: middle;\n    }\n\n    .dataframe tbody tr th {\n        vertical-align: top;\n    }\n\n    .dataframe thead th {\n        text-align: right;\n    }\n</style>\n<table border=\"1\" class=\"dataframe\">\n  <thead>\n    <tr style=\"text-align: right;\">\n      <th></th>\n      <th>x</th>\n      <th>y</th>\n      <th>z</th>\n      <th>new</th>\n    </tr>\n  </thead>\n  <tbody>\n    <tr>\n      <th>A</th>\n      <td>-0.302253</td>\n      <td>-1.343182</td>\n      <td>0.710126</td>\n      <td>-1.645435</td>\n    </tr>\n    <tr>\n      <th>B</th>\n      <td>0.185566</td>\n      <td>1.620733</td>\n      <td>-0.344539</td>\n      <td>1.806298</td>\n    </tr>\n    <tr>\n      <th>C</th>\n      <td>-0.772104</td>\n      <td>-0.422080</td>\n      <td>-1.551067</td>\n      <td>-1.194184</td>\n    </tr>\n    <tr>\n      <th>D</th>\n      <td>-0.428411</td>\n      <td>0.035686</td>\n      <td>-0.705323</td>\n      <td>-0.392725</td>\n    </tr>\n    <tr>\n      <th>E</th>\n      <td>0.174357</td>\n      <td>0.422306</td>\n      <td>0.376421</td>\n      <td>0.596663</td>\n    </tr>\n  </tbody>\n</table>\n</div>"
     },
     "execution_count": 97,
     "metadata": {},
     "output_type": "execute_result"
    }
   ],
   "source": [
    "df"
   ],
   "metadata": {
    "collapsed": false,
    "pycharm": {
     "name": "#%%\n"
    }
   }
  },
  {
   "cell_type": "code",
   "execution_count": 98,
   "outputs": [
    {
     "data": {
      "text/plain": "          x         y         z\nA -0.302253 -1.343182  0.710126\nB  0.185566  1.620733 -0.344539\nC -0.772104 -0.422080 -1.551067\nD -0.428411  0.035686 -0.705323\nE  0.174357  0.422306  0.376421",
      "text/html": "<div>\n<style scoped>\n    .dataframe tbody tr th:only-of-type {\n        vertical-align: middle;\n    }\n\n    .dataframe tbody tr th {\n        vertical-align: top;\n    }\n\n    .dataframe thead th {\n        text-align: right;\n    }\n</style>\n<table border=\"1\" class=\"dataframe\">\n  <thead>\n    <tr style=\"text-align: right;\">\n      <th></th>\n      <th>x</th>\n      <th>y</th>\n      <th>z</th>\n    </tr>\n  </thead>\n  <tbody>\n    <tr>\n      <th>A</th>\n      <td>-0.302253</td>\n      <td>-1.343182</td>\n      <td>0.710126</td>\n    </tr>\n    <tr>\n      <th>B</th>\n      <td>0.185566</td>\n      <td>1.620733</td>\n      <td>-0.344539</td>\n    </tr>\n    <tr>\n      <th>C</th>\n      <td>-0.772104</td>\n      <td>-0.422080</td>\n      <td>-1.551067</td>\n    </tr>\n    <tr>\n      <th>D</th>\n      <td>-0.428411</td>\n      <td>0.035686</td>\n      <td>-0.705323</td>\n    </tr>\n    <tr>\n      <th>E</th>\n      <td>0.174357</td>\n      <td>0.422306</td>\n      <td>0.376421</td>\n    </tr>\n  </tbody>\n</table>\n</div>"
     },
     "execution_count": 98,
     "metadata": {},
     "output_type": "execute_result"
    }
   ],
   "source": [
    "# Remove Column and replace\n",
    "df.drop('new', axis=1, inplace=True)\n",
    "df"
   ],
   "metadata": {
    "collapsed": false,
    "pycharm": {
     "name": "#%%\n"
    }
   }
  },
  {
   "cell_type": "code",
   "execution_count": 99,
   "outputs": [
    {
     "data": {
      "text/plain": "          x         y         z\nA -0.302253 -1.343182  0.710126\nB  0.185566  1.620733 -0.344539\nC -0.772104 -0.422080 -1.551067\nD -0.428411  0.035686 -0.705323",
      "text/html": "<div>\n<style scoped>\n    .dataframe tbody tr th:only-of-type {\n        vertical-align: middle;\n    }\n\n    .dataframe tbody tr th {\n        vertical-align: top;\n    }\n\n    .dataframe thead th {\n        text-align: right;\n    }\n</style>\n<table border=\"1\" class=\"dataframe\">\n  <thead>\n    <tr style=\"text-align: right;\">\n      <th></th>\n      <th>x</th>\n      <th>y</th>\n      <th>z</th>\n    </tr>\n  </thead>\n  <tbody>\n    <tr>\n      <th>A</th>\n      <td>-0.302253</td>\n      <td>-1.343182</td>\n      <td>0.710126</td>\n    </tr>\n    <tr>\n      <th>B</th>\n      <td>0.185566</td>\n      <td>1.620733</td>\n      <td>-0.344539</td>\n    </tr>\n    <tr>\n      <th>C</th>\n      <td>-0.772104</td>\n      <td>-0.422080</td>\n      <td>-1.551067</td>\n    </tr>\n    <tr>\n      <th>D</th>\n      <td>-0.428411</td>\n      <td>0.035686</td>\n      <td>-0.705323</td>\n    </tr>\n  </tbody>\n</table>\n</div>"
     },
     "execution_count": 99,
     "metadata": {},
     "output_type": "execute_result"
    }
   ],
   "source": [
    "# Remove Row default-> axis=0\n",
    "df.drop(\"E\")"
   ],
   "metadata": {
    "collapsed": false,
    "pycharm": {
     "name": "#%%\n"
    }
   }
  },
  {
   "cell_type": "code",
   "execution_count": 100,
   "outputs": [
    {
     "data": {
      "text/plain": "(5, 3)"
     },
     "execution_count": 100,
     "metadata": {},
     "output_type": "execute_result"
    }
   ],
   "source": [
    "df.shape"
   ],
   "metadata": {
    "collapsed": false,
    "pycharm": {
     "name": "#%%\n"
    }
   }
  },
  {
   "cell_type": "code",
   "execution_count": 101,
   "outputs": [
    {
     "data": {
      "text/plain": "x   -0.302253\ny   -1.343182\nz    0.710126\nName: A, dtype: float64"
     },
     "execution_count": 101,
     "metadata": {},
     "output_type": "execute_result"
    }
   ],
   "source": [
    "# Get Row\n",
    "df.loc['A']"
   ],
   "metadata": {
    "collapsed": false,
    "pycharm": {
     "name": "#%%\n"
    }
   }
  },
  {
   "cell_type": "code",
   "execution_count": 102,
   "outputs": [
    {
     "data": {
      "text/plain": "-1.343181511665305"
     },
     "execution_count": 102,
     "metadata": {},
     "output_type": "execute_result"
    }
   ],
   "source": [
    "df.loc['A',\"y\"]"
   ],
   "metadata": {
    "collapsed": false,
    "pycharm": {
     "name": "#%%\n"
    }
   }
  },
  {
   "cell_type": "code",
   "execution_count": 103,
   "outputs": [
    {
     "data": {
      "text/plain": "          y         z\nA -1.343182  0.710126\nB  1.620733 -0.344539",
      "text/html": "<div>\n<style scoped>\n    .dataframe tbody tr th:only-of-type {\n        vertical-align: middle;\n    }\n\n    .dataframe tbody tr th {\n        vertical-align: top;\n    }\n\n    .dataframe thead th {\n        text-align: right;\n    }\n</style>\n<table border=\"1\" class=\"dataframe\">\n  <thead>\n    <tr style=\"text-align: right;\">\n      <th></th>\n      <th>y</th>\n      <th>z</th>\n    </tr>\n  </thead>\n  <tbody>\n    <tr>\n      <th>A</th>\n      <td>-1.343182</td>\n      <td>0.710126</td>\n    </tr>\n    <tr>\n      <th>B</th>\n      <td>1.620733</td>\n      <td>-0.344539</td>\n    </tr>\n  </tbody>\n</table>\n</div>"
     },
     "execution_count": 103,
     "metadata": {},
     "output_type": "execute_result"
    }
   ],
   "source": [
    "df.loc[['A','B'], ['y', 'z']]\n"
   ],
   "metadata": {
    "collapsed": false,
    "pycharm": {
     "name": "#%%\n"
    }
   }
  }
 ],
 "metadata": {
  "kernelspec": {
   "name": "pycharm-c1ded706",
   "language": "python",
   "display_name": "PyCharm (Mechine Learning with Python)"
  },
  "language_info": {
   "codemirror_mode": {
    "name": "ipython",
    "version": 2
   },
   "file_extension": ".py",
   "mimetype": "text/x-python",
   "name": "python",
   "nbconvert_exporter": "python",
   "pygments_lexer": "ipython2",
   "version": "2.7.6"
  }
 },
 "nbformat": 4,
 "nbformat_minor": 0
}