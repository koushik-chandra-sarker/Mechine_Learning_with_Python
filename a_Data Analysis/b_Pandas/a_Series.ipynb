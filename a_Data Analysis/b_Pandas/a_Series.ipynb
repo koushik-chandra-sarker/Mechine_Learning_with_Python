{
 "cells": [
  {
   "cell_type": "code",
   "execution_count": 10,
   "metadata": {
    "collapsed": true
   },
   "outputs": [
    {
     "data": {
      "text/plain": "a    20\nb    40\nc    60\ndtype: int64"
     },
     "execution_count": 10,
     "metadata": {},
     "output_type": "execute_result"
    }
   ],
   "source": [
    "import pandas as pd\n",
    "\n",
    "labels = [\"a\",\"b\",\"c\"]\n",
    "my_data = [20, 40, 60]\n",
    "my_dict = {\"a\": 20, \"b\":40,'c':60}\n",
    "\n",
    "series = pd.Series(data=my_data, index=labels)\n",
    "\n",
    "series\n",
    "\n",
    "\"\"\"\n",
    "Output:\n",
    "    a    20\n",
    "    b    40\n",
    "    c    60\n",
    "    dtype: int64\n",
    "\"\"\"\n"
   ]
  }
 ],
 "metadata": {
  "kernelspec": {
   "name": "pycharm-c1ded706",
   "language": "python",
   "display_name": "PyCharm (Mechine Learning with Python)"
  },
  "language_info": {
   "codemirror_mode": {
    "name": "ipython",
    "version": 2
   },
   "file_extension": ".py",
   "mimetype": "text/x-python",
   "name": "python",
   "nbconvert_exporter": "python",
   "pygments_lexer": "ipython2",
   "version": "2.7.6"
  }
 },
 "nbformat": 4,
 "nbformat_minor": 0
}