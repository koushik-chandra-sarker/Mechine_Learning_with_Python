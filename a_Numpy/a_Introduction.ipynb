{
 "cells": [
  {
   "cell_type": "code",
   "execution_count": 1,
   "outputs": [
    {
     "data": {
      "text/plain": "[1, 4, 3, 5]"
     },
     "execution_count": 1,
     "metadata": {},
     "output_type": "execute_result"
    }
   ],
   "source": [
    "\"\"\"\n",
    "First you need to install Numpy\n",
    "There are two way to install Numpy\n",
    "    1. Conda 2. pip\n",
    "For conda installation you need to install anaconda\n",
    "    Here the Download link of anaconda:\n",
    "    https://www.anaconda.com/products/individual#Downloads\n",
    "\n",
    "    conda installation command: > conda install numpy\n",
    "    pip installation command: > pip install numpy\n",
    "\n",
    "    Further information about Numpy Installation visit this link:\n",
    "    https://numpy.org/install/\n",
    "\n",
    "\n",
    "\"\"\"\n",
    "\n",
    "\"\"\"\n",
    "    NumPy is the fundamental package for scientific computing in Python.\n",
    "    It is a Python library that provides a multidimensional array object,\n",
    "    various derived objects (such as masked arrays and matrices), and an\n",
    "    assortment of routines for fast operations on arrays, including mathematical,\n",
    "    logical, shape manipulation, sorting, selecting, I/O, discrete Fourier transforms,\n",
    "    basic linear algebra, basic statistical operations, random simulation and much more.\n",
    "\n",
    "    Further information See the numpy documentation here:\n",
    "    https://numpy.org/doc/stable/\n",
    "\"\"\"\n",
    "\n",
    "import numpy as np\n",
    "\n",
    "array  = [1,4,3,5]\n",
    "array"
   ],
   "metadata": {
    "collapsed": false,
    "pycharm": {
     "name": "#%%\n"
    }
   }
  }
 ],
 "metadata": {
  "kernelspec": {
   "name": "pycharm-c1ded706",
   "language": "python",
   "display_name": "PyCharm (Mechine Learning with Python)"
  },
  "language_info": {
   "codemirror_mode": {
    "name": "ipython",
    "version": 2
   },
   "file_extension": ".py",
   "mimetype": "text/x-python",
   "name": "python",
   "nbconvert_exporter": "python",
   "pygments_lexer": "ipython2",
   "version": "2.7.6"
  }
 },
 "nbformat": 4,
 "nbformat_minor": 0
}